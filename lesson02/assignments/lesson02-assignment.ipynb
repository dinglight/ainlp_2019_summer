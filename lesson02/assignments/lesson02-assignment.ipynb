{
 "cells": [
  {
   "cell_type": "markdown",
   "metadata": {},
   "source": [
    "# Assignments for Week-02"
   ]
  },
  {
   "cell_type": "markdown",
   "metadata": {},
   "source": [
    "## 1. Re-code the house price machine learning"
   ]
  },
  {
   "cell_type": "code",
   "execution_count": 2,
   "metadata": {},
   "outputs": [],
   "source": [
    "from sklearn.datasets import load_boston"
   ]
  },
  {
   "cell_type": "code",
   "execution_count": 4,
   "metadata": {},
   "outputs": [],
   "source": [
    "data = load_boston()"
   ]
  },
  {
   "cell_type": "code",
   "execution_count": 5,
   "metadata": {},
   "outputs": [],
   "source": [
    "x,y = data['data'], data['target']"
   ]
  },
  {
   "cell_type": "code",
   "execution_count": 6,
   "metadata": {},
   "outputs": [],
   "source": [
    "x_rm = x[:,5]"
   ]
  },
  {
   "cell_type": "code",
   "execution_count": 10,
   "metadata": {},
   "outputs": [],
   "source": [
    "%matplotlib inline\n",
    "import matplotlib.pyplot as plt"
   ]
  },
  {
   "cell_type": "code",
   "execution_count": 11,
   "metadata": {},
   "outputs": [
    {
     "data": {
      "text/plain": [
       "<matplotlib.collections.PathCollection at 0x15e160ad0b8>"
      ]
     },
     "execution_count": 11,
     "metadata": {},
     "output_type": "execute_result"
    },
    {
     "data": {
      "image/png": "[encoded data removed]",
      "text/plain": [
       "<Figure size 432x288 with 1 Axes>"
      ]
     },
     "metadata": {
      "needs_background": "light"
     },
     "output_type": "display_data"
    }
   ],
   "source": [
    "plt.scatter(x_rm, y)"
   ]
  },
  {
   "cell_type": "markdown",
   "metadata": {},
   "source": [
    "### price"
   ]
  },
  {
   "cell_type": "code",
   "execution_count": 18,
   "metadata": {},
   "outputs": [],
   "source": [
    "def price(rm, k, b):\n",
    "    return rm*k+b"
   ]
  },
  {
   "cell_type": "markdown",
   "metadata": {},
   "source": [
    "### loss"
   ]
  },
  {
   "cell_type": "code",
   "execution_count": 19,
   "metadata": {},
   "outputs": [],
   "source": [
    "def loss(y, y_hat):\n",
    "    return sum((y_i - y_hat_i)**2 for y_i, y_hat_i in zip(list(y), list(y_hat))) / len(list(y))"
   ]
  },
  {
   "cell_type": "markdown",
   "metadata": {},
   "source": [
    "### 1. Random Choose Method to get optimal k and b"
   ]
  },
  {
   "cell_type": "code",
   "execution_count": 23,
   "metadata": {},
   "outputs": [],
   "source": [
    "import random"
   ]
  },
  {
   "cell_type": "code",
   "execution_count": 29,
   "metadata": {},
   "outputs": [],
   "source": [
    "def random_find_k_b(trying_times):\n",
    "    min_loss = float('inf')\n",
    "    best_k, best_b = None, None\n",
    "\n",
    "    for i in range(trying_times):\n",
    "        k = random.random() * 200 - 100\n",
    "        b = random.random() * 200 - 100\n",
    "        price_by_random_k_and_b = [price(r, k, b) for r in x_rm]\n",
    "\n",
    "        current_loss = loss(y, price_by_random_k_and_b)\n",
    "    \n",
    "        if current_loss < min_loss:\n",
    "            min_loss = current_loss\n",
    "            best_k, best_b = k, b\n",
    "            print('When time is : {}, get best_k: {} best_b: {}, and the loss is: {}'.format(i, best_k, best_b, min_loss))\n",
    "    return best_k, best_b"
   ]
  },
  {
   "cell_type": "code",
   "execution_count": 30,
   "metadata": {},
   "outputs": [
    {
     "name": "stdout",
     "output_type": "stream",
     "text": [
      "When time is : 0, get best_k: 59.85861110273737 best_b: 79.88793745573483, and the loss is: 189273.8278539751\n",
      "When time is : 1, get best_k: -27.995212125835593 best_b: -79.48797095031459, and the loss is: 77983.665052409\n",
      "When time is : 4, get best_k: -8.350991548913228 best_b: 95.85847030076525, and the loss is: 628.1004109817411\n",
      "When time is : 13, get best_k: 15.398108415385664 best_b: -70.844935904185, and the loss is: 74.64826467887572\n",
      "When time is : 65, get best_k: 8.197006017556618 best_b: -27.128978952387797, and the loss is: 47.43926713533292\n",
      "When time is : 1227, get best_k: 8.785680305835626 best_b: -32.68645786508, and the loss is: 43.64990394878659\n"
     ]
    },
    {
     "data": {
      "text/plain": [
       "<matplotlib.collections.PathCollection at 0x15e161722e8>"
      ]
     },
     "execution_count": 30,
     "metadata": {},
     "output_type": "execute_result"
    },
    {
     "data": {
      "image/png": "[encoded data removed]",
      "text/plain": [
       "<Figure size 432x288 with 1 Axes>"
      ]
     },
     "metadata": {
      "needs_background": "light"
     },
     "output_type": "display_data"
    }
   ],
   "source": [
    "k,b = random_find_k_b(10000)\n",
    "price_by_random_k_and_b = [price(r, k, b) for r in x_rm]\n",
    "plt.scatter(x_rm, y)\n",
    "plt.scatter(x_rm, price_by_random_k_and_b)"
   ]
  },
  {
   "cell_type": "markdown",
   "metadata": {},
   "source": [
    "### 2.Supervised Direction to get optimal k and b"
   ]
  },
  {
   "cell_type": "code",
   "execution_count": 36,
   "metadata": {},
   "outputs": [],
   "source": [
    "direction = [\n",
    "    (+1, -1),  # first element: k's change direction, second element: b's change direction\n",
    "    (+1, +1), \n",
    "    (-1, -1), \n",
    "    (-1, +1),\n",
    "]\n",
    "\n",
    "def supervised_find_k_b(trying_times):\n",
    "    min_loss = float('inf')\n",
    "    best_k = random.random() * 200 - 100\n",
    "    best_b = random.random() * 200 - 100\n",
    "\n",
    "    next_direction = random.choice(direction)\n",
    "\n",
    "    scalar = 1.0\n",
    "\n",
    "    for i in range(trying_times):\n",
    "        k_direction, b_direction = next_direction\n",
    "        current_k, current_b = best_k + k_direction * scalar, best_b + b_direction * scalar\n",
    "        price_by_k_and_b = [price(r, current_k, current_b) for r in x_rm]\n",
    "        current_loss = loss(y, price_by_k_and_b)\n",
    "    \n",
    "        if current_loss < min_loss: # performance became better\n",
    "            min_loss = current_loss\n",
    "            best_k, best_b = current_k, current_b\n",
    "\n",
    "            next_direction = next_direction\n",
    "            print('When time is : {}, get best_k: {} best_b: {}, and the loss is: {}'.format(i, best_k, best_b, min_loss))\n",
    "        else:\n",
    "            next_direction = random.choice(direction)\n",
    "    return best_k, best_b"
   ]
  },
  {
   "cell_type": "code",
   "execution_count": 37,
   "metadata": {},
   "outputs": [
    {
     "name": "stdout",
     "output_type": "stream",
     "text": [
      "When time is : 0, get best_k: -77.94597090071994 best_b: -74.44354022025112, and the loss is: 348156.09535589156\n",
      "When time is : 4, get best_k: -76.94597090071994 best_b: -73.44354022025112, and the loss is: 339574.07303937443\n",
      "When time is : 5, get best_k: -75.94597090071994 best_b: -72.44354022025112, and the loss is: 331099.16790960415\n",
      "When time is : 6, get best_k: -74.94597090071994 best_b: -71.44354022025112, and the loss is: 322731.3799665815\n",
      "When time is : 7, get best_k: -73.94597090071994 best_b: -70.44354022025112, and the loss is: 314470.7092103053\n",
      "When time is : 8, get best_k: -72.94597090071994 best_b: -69.44354022025112, and the loss is: 306317.15564077615\n",
      "When time is : 9, get best_k: -71.94597090071994 best_b: -68.44354022025112, and the loss is: 298270.7192579939\n",
      "When time is : 10, get best_k: -70.94597090071994 best_b: -67.44354022025112, and the loss is: 290331.40006195946\n",
      "When time is : 11, get best_k: -69.94597090071994 best_b: -66.44354022025112, and the loss is: 282499.1980526715\n",
      "When time is : 12, get best_k: -68.94597090071994 best_b: -65.44354022025112, and the loss is: 274774.11323013087\n",
      "When time is : 13, get best_k: -67.94597090071994 best_b: -64.44354022025112, and the loss is: 267156.14559433685\n",
      "When time is : 14, get best_k: -66.94597090071994 best_b: -63.44354022025112, and the loss is: 259645.29514528994\n",
      "When time is : 15, get best_k: -65.94597090071994 best_b: -62.44354022025112, and the loss is: 252241.5618829904\n",
      "When time is : 16, get best_k: -64.94597090071994 best_b: -61.44354022025112, and the loss is: 244944.9458074376\n",
      "When time is : 17, get best_k: -63.94597090071994 best_b: -60.44354022025112, and the loss is: 237755.44691863167\n",
      "When time is : 18, get best_k: -62.94597090071994 best_b: -59.44354022025112, and the loss is: 230673.06521657333\n",
      "When time is : 19, get best_k: -61.94597090071994 best_b: -58.44354022025112, and the loss is: 223697.80070126176\n",
      "When time is : 20, get best_k: -60.94597090071994 best_b: -57.44354022025112, and the loss is: 216829.65337269704\n",
      "When time is : 21, get best_k: -59.94597090071994 best_b: -56.44354022025112, and the loss is: 210068.62323087937\n",
      "When time is : 22, get best_k: -58.94597090071994 best_b: -55.44354022025112, and the loss is: 203414.7102758091\n",
      "When time is : 23, get best_k: -57.94597090071994 best_b: -54.44354022025112, and the loss is: 196867.9145074855\n",
      "When time is : 24, get best_k: -56.94597090071994 best_b: -53.44354022025112, and the loss is: 190428.2359259092\n",
      "When time is : 25, get best_k: -55.94597090071994 best_b: -52.44354022025112, and the loss is: 184095.67453107983\n",
      "When time is : 26, get best_k: -54.94597090071994 best_b: -51.44354022025112, and the loss is: 177870.23032299767\n",
      "When time is : 27, get best_k: -53.94597090071994 best_b: -50.44354022025112, and the loss is: 171751.90330166207\n",
      "When time is : 28, get best_k: -52.94597090071994 best_b: -49.44354022025112, and the loss is: 165740.69346707396\n",
      "When time is : 29, get best_k: -51.94597090071994 best_b: -48.44354022025112, and the loss is: 159836.60081923264\n",
      "When time is : 30, get best_k: -50.94597090071994 best_b: -47.44354022025112, and the loss is: 154039.62535813855\n",
      "When time is : 31, get best_k: -49.94597090071994 best_b: -46.44354022025112, and the loss is: 148349.76708379132\n",
      "When time is : 32, get best_k: -48.94597090071994 best_b: -45.44354022025112, and the loss is: 142767.02599619125\n",
      "When time is : 33, get best_k: -47.94597090071994 best_b: -44.44354022025112, and the loss is: 137291.40209533818\n",
      "When time is : 34, get best_k: -46.94597090071994 best_b: -43.44354022025112, and the loss is: 131922.89538123208\n",
      "When time is : 35, get best_k: -45.94597090071994 best_b: -42.44354022025112, and the loss is: 126661.50585387294\n",
      "When time is : 36, get best_k: -44.94597090071994 best_b: -41.44354022025112, and the loss is: 121507.23351326093\n",
      "When time is : 37, get best_k: -43.94597090071994 best_b: -40.44354022025112, and the loss is: 116460.07835939608\n",
      "When time is : 38, get best_k: -42.94597090071994 best_b: -39.44354022025112, and the loss is: 111520.04039227817\n",
      "When time is : 39, get best_k: -41.94597090071994 best_b: -38.44354022025112, and the loss is: 106687.11961190731\n",
      "When time is : 40, get best_k: -40.94597090071994 best_b: -37.44354022025112, and the loss is: 101961.3160182834\n",
      "When time is : 41, get best_k: -39.94597090071994 best_b: -36.44354022025112, and the loss is: 97342.62961140659\n",
      "When time is : 42, get best_k: -38.94597090071994 best_b: -35.44354022025112, and the loss is: 92831.06039127678\n",
      "When time is : 43, get best_k: -37.94597090071994 best_b: -34.44354022025112, and the loss is: 88426.60835789407\n",
      "When time is : 44, get best_k: -36.94597090071994 best_b: -33.44354022025112, and the loss is: 84129.2735112583\n",
      "When time is : 45, get best_k: -35.94597090071994 best_b: -32.44354022025112, and the loss is: 79939.05585136962\n",
      "When time is : 46, get best_k: -34.94597090071994 best_b: -31.443540220251123, and the loss is: 75855.95537822813\n",
      "When time is : 47, get best_k: -33.94597090071994 best_b: -30.443540220251123, and the loss is: 71879.9720918334\n",
      "When time is : 48, get best_k: -32.94597090071994 best_b: -29.443540220251123, and the loss is: 68011.10599218591\n",
      "When time is : 49, get best_k: -31.945970900719942 best_b: -28.443540220251123, and the loss is: 64249.35707928533\n",
      "When time is : 50, get best_k: -30.945970900719942 best_b: -27.443540220251123, and the loss is: 60594.72535313182\n",
      "When time is : 51, get best_k: -29.945970900719942 best_b: -26.443540220251123, and the loss is: 57047.21081372533\n",
      "When time is : 52, get best_k: -28.945970900719942 best_b: -25.443540220251123, and the loss is: 53606.81346106593\n",
      "When time is : 53, get best_k: -27.945970900719942 best_b: -24.443540220251123, and the loss is: 50273.53329515359\n",
      "When time is : 54, get best_k: -26.945970900719942 best_b: -23.443540220251123, and the loss is: 47047.3703159882\n",
      "When time is : 55, get best_k: -25.945970900719942 best_b: -22.443540220251123, and the loss is: 43928.32452356995\n",
      "When time is : 56, get best_k: -24.945970900719942 best_b: -21.443540220251123, and the loss is: 40916.39591789865\n",
      "When time is : 57, get best_k: -23.945970900719942 best_b: -20.443540220251123, and the loss is: 38011.58449897436\n",
      "When time is : 58, get best_k: -22.945970900719942 best_b: -19.443540220251123, and the loss is: 35213.89026679717\n",
      "When time is : 59, get best_k: -21.945970900719942 best_b: -18.443540220251123, and the loss is: 32523.31322136703\n",
      "When time is : 60, get best_k: -20.945970900719942 best_b: -17.443540220251123, and the loss is: 29939.853362683858\n",
      "When time is : 61, get best_k: -19.945970900719942 best_b: -16.443540220251123, and the loss is: 27463.510690747768\n",
      "When time is : 62, get best_k: -18.945970900719942 best_b: -15.443540220251123, and the loss is: 25094.285205558688\n",
      "When time is : 63, get best_k: -17.945970900719942 best_b: -14.443540220251123, and the loss is: 22832.176907116667\n",
      "When time is : 64, get best_k: -16.945970900719942 best_b: -13.443540220251123, and the loss is: 20677.185795421647\n",
      "When time is : 65, get best_k: -15.945970900719942 best_b: -12.443540220251123, and the loss is: 18629.311870473717\n",
      "When time is : 66, get best_k: -14.945970900719942 best_b: -11.443540220251123, and the loss is: 16688.55513227278\n",
      "When time is : 67, get best_k: -13.945970900719942 best_b: -10.443540220251123, and the loss is: 14854.915580818903\n",
      "When time is : 68, get best_k: -12.945970900719942 best_b: -9.443540220251123, and the loss is: 13128.393216112045\n",
      "When time is : 69, get best_k: -11.945970900719942 best_b: -8.443540220251123, and the loss is: 11508.98803815223\n",
      "When time is : 70, get best_k: -10.945970900719942 best_b: -7.443540220251123, and the loss is: 9996.700046939442\n",
      "When time is : 71, get best_k: -9.945970900719942 best_b: -6.443540220251123, and the loss is: 8591.529242473694\n",
      "When time is : 72, get best_k: -8.945970900719942 best_b: -5.443540220251123, and the loss is: 7293.475624754984\n",
      "When time is : 73, get best_k: -7.945970900719942 best_b: -4.443540220251123, and the loss is: 6102.539193783311\n",
      "When time is : 74, get best_k: -6.945970900719942 best_b: -3.4435402202511227, and the loss is: 5018.719949558671\n",
      "When time is : 75, get best_k: -5.945970900719942 best_b: -2.4435402202511227, and the loss is: 4042.0178920810713\n",
      "When time is : 76, get best_k: -4.945970900719942 best_b: -1.4435402202511227, and the loss is: 3172.4330213504977\n",
      "When time is : 77, get best_k: -3.945970900719942 best_b: -0.4435402202511227, and the loss is: 2409.965337366969\n",
      "When time is : 78, get best_k: -2.945970900719942 best_b: 0.5564597797488773, and the loss is: 1754.6148401304688\n",
      "When time is : 79, get best_k: -1.9459709007199422 best_b: 1.5564597797488773, and the loss is: 1206.3815296410069\n",
      "When time is : 80, get best_k: -0.9459709007199422 best_b: 2.5564597797488773, and the loss is: 765.2654058985825\n",
      "When time is : 81, get best_k: 0.054029099280057835 best_b: 3.5564597797488773, and the loss is: 431.2664689031913\n",
      "When time is : 82, get best_k: 1.0540290992800578 best_b: 4.556459779748877, and the loss is: 204.384718654836\n",
      "When time is : 83, get best_k: 2.054029099280058 best_b: 5.556459779748877, and the loss is: 84.62015515351659\n",
      "When time is : 84, get best_k: 3.054029099280058 best_b: 6.556459779748877, and the loss is: 71.97277839923261\n"
     ]
    },
    {
     "data": {
      "text/plain": [
       "<matplotlib.collections.PathCollection at 0x15e1725bc50>"
      ]
     },
     "execution_count": 37,
     "metadata": {},
     "output_type": "execute_result"
    },
    {
     "data": {
      "image/png": "[encoded data removed]",
      "text/plain": [
       "<Figure size 432x288 with 1 Axes>"
      ]
     },
     "metadata": {
      "needs_background": "light"
     },
     "output_type": "display_data"
    }
   ],
   "source": [
    "k,b = supervised_find_k_b(10000)\n",
    "price_by_supervised_k_and_b = [price(r, k, b) for r in x_rm]\n",
    "plt.scatter(x_rm, y)\n",
    "plt.scatter(x_rm, price_by_supervised_k_and_b)"
   ]
  },
  {
   "cell_type": "markdown",
   "metadata": {},
   "source": [
    "### 3.Gradient Descent to get optimal k and b"
   ]
  },
  {
   "cell_type": "markdown",
   "metadata": {},
   "source": [
    "### 4. Try different Loss function and learning rate."
   ]
  },
  {
   "cell_type": "markdown",
   "metadata": {},
   "source": [
    "## 2. Answer following questions:"
   ]
  },
  {
   "cell_type": "markdown",
   "metadata": {},
   "source": [
    "1. Why do we need machine learning methods instead of creating a complicated formula?\n",
    "\n",
    "==> 首先很难构造这样的复杂函数，其次即使创造的函数能符合目前的数据，但是未来的数据是未知的，构造的函数不能满足未来的数据。与其这样不如让机器根据已有的数据自己学习并构造这样的函数。"
   ]
  },
  {
   "cell_type": "markdown",
   "metadata": {},
   "source": [
    "2. Wha't's the disadvantages of the 1st Random Choosen methods in our course?\n",
    "\n",
    "==> 第一种随机方法很盲目，虽然增加迭代次数可以让loss逐步变小，但是过程太漫长了。消耗时间多"
   ]
  },
  {
   "cell_type": "markdown",
   "metadata": {},
   "source": [
    "3. Is the 2nd method supervised direction better than 1st one? What's the disadvantages of the 2nd supversied directin method?\n",
    "\n",
    "==> 第二种有监督的方向学习比第一种好。"
   ]
  },
  {
   "cell_type": "markdown",
   "metadata": {},
   "source": [
    "4. Why do we use Derivative / Gredient to fit a target function?"
   ]
  },
  {
   "cell_type": "markdown",
   "metadata": {},
   "source": [
    "5. In the words 'Gredient Descent', what's the Gredient and what's the Descent?\n",
    "Ans:"
   ]
  },
  {
   "cell_type": "markdown",
   "metadata": {},
   "source": [
    "6. What's the advantages of the 3rd gradient descent method compared to the previous methods?\n",
    "Ans:"
   ]
  },
  {
   "cell_type": "markdown",
   "metadata": {},
   "source": [
    "7. Using the simple words to describe: What's the machine leanring.\n",
    "Ans:"
   ]
  },
  {
   "cell_type": "markdown",
   "metadata": {},
   "source": [
    "## 3. Finish the search problem"
   ]
  },
  {
   "cell_type": "markdown",
   "metadata": {},
   "source": [
    "### 1. Get data from web page."
   ]
  },
  {
   "cell_type": "code",
   "execution_count": 7,
   "metadata": {},
   "outputs": [],
   "source": [
    "import requests\n",
    "import re"
   ]
  },
  {
   "cell_type": "code",
   "execution_count": 8,
   "metadata": {},
   "outputs": [],
   "source": [
    "def get_data_sub_links():\n",
    "    base_link='http://www.njmetro.com.cn/njdtweb/portal/get-lineIntro.do?rowId='\n",
    "    url = r'http://www.njmetro.com.cn/njdtweb/home/go-line-intro.do?columnId=8a8080076512510d0165130727520004&rowId=8a80800765a29a780165a8538b6f0018'\n",
    "    response = requests.get(url)\n",
    "    what_we_want = r'<a href=\"javascript:;\" id=\"([0-9a-f]+)\" onclick=\"changeLine\\(id\\)\" class=\"ser_02_ta\" style=\"width:40px;\">(.+号线)</a>'\n",
    "    pattern = re.compile(what_we_want)\n",
    "    likes = pattern.findall(response.text)\n",
    "    sub_links = []\n",
    "    for like in likes:\n",
    "        link, name = like\n",
    "        sub_links.append(base_link + link)\n",
    "    return sub_links"
   ]
  },
  {
   "cell_type": "code",
   "execution_count": 9,
   "metadata": {},
   "outputs": [
    {
     "data": {
      "text/plain": [
       "['http://www.njmetro.com.cn/njdtweb/portal/get-lineIntro.do?rowId=8a80800765a29a780165a8538b6f0018',\n",
       " 'http://www.njmetro.com.cn/njdtweb/portal/get-lineIntro.do?rowId=8a80800765a29a780165a85300730016',\n",
       " 'http://www.njmetro.com.cn/njdtweb/portal/get-lineIntro.do?rowId=8a80800765a29a780165a85265a30014',\n",
       " 'http://www.njmetro.com.cn/njdtweb/portal/get-lineIntro.do?rowId=8a80800765a29a780165a851d3490012',\n",
       " 'http://www.njmetro.com.cn/njdtweb/portal/get-lineIntro.do?rowId=8a80800765a29a780165a85112650010',\n",
       " 'http://www.njmetro.com.cn/njdtweb/portal/get-lineIntro.do?rowId=8a80800765a29a780165a850496e000e',\n",
       " 'http://www.njmetro.com.cn/njdtweb/portal/get-lineIntro.do?rowId=8a80800765a29a780165a84fbd81000c',\n",
       " 'http://www.njmetro.com.cn/njdtweb/portal/get-lineIntro.do?rowId=8a80800765a29a780165a84d2c38000a',\n",
       " 'http://www.njmetro.com.cn/njdtweb/portal/get-lineIntro.do?rowId=8a80800765a29a780165a84c8d350008',\n",
       " 'http://www.njmetro.com.cn/njdtweb/portal/get-lineIntro.do?rowId=8a80800765a29a780165a7b597590006']"
      ]
     },
     "execution_count": 9,
     "metadata": {},
     "output_type": "execute_result"
    }
   ],
   "source": [
    "sub_links = get_data_sub_links()\n",
    "sub_links"
   ]
  },
  {
   "cell_type": "markdown",
   "metadata": {},
   "source": [
    "### 2. Preprocessing data from page source."
   ]
  },
  {
   "cell_type": "code",
   "execution_count": 10,
   "metadata": {},
   "outputs": [],
   "source": [
    "import json\n",
    "def download_data(url):\n",
    "    \"\"\" download data \"\"\"\n",
    "    try:\n",
    "        r = requests.get(url)\n",
    "        #the text is a json, convert it to python dictionary\n",
    "        data = json.loads(r.text)\n",
    "        html = data['articleContent']\n",
    "        line_name = data['articleTitle']\n",
    "        return html, line_name\n",
    "    except:\n",
    "        print(\"error\")"
   ]
  },
  {
   "cell_type": "code",
   "execution_count": 11,
   "metadata": {},
   "outputs": [],
   "source": [
    "import networkx as nx"
   ]
  },
  {
   "cell_type": "code",
   "execution_count": 12,
   "metadata": {},
   "outputs": [],
   "source": [
    "G = nx.Graph()"
   ]
  },
  {
   "cell_type": "code",
   "execution_count": 13,
   "metadata": {},
   "outputs": [],
   "source": [
    "from bs4 import BeautifulSoup\n",
    "import bs4\n",
    "def fill_graph_by_oneline(graph, html, line_name):\n",
    "    #use Beautifulsoup to extract data from table\n",
    "    soup = BeautifulSoup(html, \"html.parser\")\n",
    "    for tr in soup.find('tbody').children:\n",
    "        if isinstance(tr, bs4.element.Tag):\n",
    "            tds = tr('td')\n",
    "            # tds[0] from--to tds[1] distance\n",
    "            if tds[0].string:\n",
    "                match_obj = re.match(r'(.+)——(.+)', tds[0].string)\n",
    "                if match_obj:\n",
    "                    f = match_obj.group(1)\n",
    "                    t = match_obj.group(2)\n",
    "                    d = int(tds[1].string)\n",
    "                    #print(f, t, d)\n",
    "                    graph.add_edge(f, t, weight=d, line=line_name)"
   ]
  },
  {
   "cell_type": "code",
   "execution_count": 14,
   "metadata": {},
   "outputs": [],
   "source": [
    "for link in sub_links:\n",
    "    html, line_name = download_data(link)\n",
    "    fill_graph_by_oneline(G, html, line_name)"
   ]
  },
  {
   "cell_type": "code",
   "execution_count": 15,
   "metadata": {},
   "outputs": [
    {
     "name": "stdout",
     "output_type": "stream",
     "text": [
      "Name: \n",
      "Type: Graph\n",
      "Number of nodes: 165\n",
      "Number of edges: 164\n",
      "Average degree:   1.9879 \n",
      "\n"
     ]
    }
   ],
   "source": [
    "print(nx.info(G), '\\n')"
   ]
  },
  {
   "cell_type": "code",
   "execution_count": 16,
   "metadata": {},
   "outputs": [
    {
     "name": "stdout",
     "output_type": "stream",
     "text": [
      "Nodes: ['迈皋桥', '红山动物园', '南京站', '新模范马路', '玄武门', '鼓楼', '珠江路', '新街口', '张府园', '三山街', '中华门', '安德门', '天隆寺', '软件大道', '花神庙', '南京南站', '双龙大道', '河定桥', '胜太路', '百家湖', '小龙湾', '竹山路', '天印大道', '龙眠大道', '南医大江苏经贸学院', '南京交院', '中国药科大学', '油坊桥', '雨润大街', '元通', '奥体东站', '兴隆大街', '集庆门大街', '云锦路', '莫愁湖', '汉中门', '上海路', '大行宫', '西安门', '明故宫', '苜蓿园', '下马坊', '孝陵卫', '钟灵街', '马群', '金马路', '仙鹤门', '学则路', '仙林中心', '羊山公园', '南大仙林校区', '经天路', '林场', '星火路', '东大成贤学院站', '泰冯路', '天润城', '柳洲东路', '上元门', '五塘广场', '小市', '南京林业大学新庄', '鸡鸣寺', '浮桥', '常府街', '夫子庙', '武定门', '雨花门', '卡子门', '大明路', '明城大道', '宏运大道', '胜太西路', '天元西路', '九龙湖', '诚信大道', '东大九龙湖校区', '秣周东路', '龙江站', '草场门站', '云南路站', '鼓楼站', '鸡鸣寺站', '九华山站', '岗子村站', '蒋王庙站', '王家湾站', '聚宝山站', '徐庄站', '金马路站', '汇通路站', '灵山站', '东流站', '孟北站', '桦墅站', '仙林湖站', '小行', '中胜', '奥体中心', '梦都大街', '绿博园', '江心洲', '临江.青奥体育公园', '浦口万汇城', '南京工业大学', '龙华路', '文德路', '雨山路', '禄口机场', '翔宇路南', '翔宇路北', '正方中路', '吉印大道', '河海大学·佛城西路', '翠屏山', '景明佳园站', '铁心桥站', '春江路站', '贾西站', '油坊桥站', '永初路站', '平良大街站', '吴侯街站', '高庙路站', '天保站', '刘村站', '马骡圩站', '兰花塘站', '双垅站', '石碛河站', '桥林新城站', '林山站', '高家冲站', '禄口机场站', '空港新城江宁站', '柘塘站', '空港新城溧水站', '群力站', '卧龙湖站', '溧水站', '中山湖站', '幸庄站', '无想山站', '泰山新村', '高新开发区', '信息工程大学', '卸甲甸', '大厂', '葛塘', '长芦', '化工园', '六和开发区', '龙池', '雄州', '凤凰山公园', '方州广场', '沈桥', '八百桥', '金牛湖', '翔宇南路', '铜山站', '石湫站', '明觉站', '团结圩', '高淳站']\n"
     ]
    }
   ],
   "source": [
    "print(\"Nodes:\", G.nodes())"
   ]
  },
  {
   "cell_type": "code",
   "execution_count": 26,
   "metadata": {},
   "outputs": [
    {
     "name": "stdout",
     "output_type": "stream",
     "text": [
      "ItemsView(AtlasView({'珠江路': {'weight': 1147, 'line': '1号线'}, '张府园': {'weight': 1125, 'line': '1号线'}, '上海路': {'weight': 745, 'line': '2号线'}, '大行宫': {'weight': 1022, 'line': '2号线'}}))\n"
     ]
    }
   ],
   "source": [
    "print(G['新街口'].items())"
   ]
  },
  {
   "cell_type": "code",
   "execution_count": 18,
   "metadata": {},
   "outputs": [
    {
     "name": "stdout",
     "output_type": "stream",
     "text": [
      "Edges: [('迈皋桥', '红山动物园'), ('红山动物园', '南京站'), ('南京站', '新模范马路'), ('南京站', '小市'), ('南京站', '南京林业大学新庄'), ('新模范马路', '玄武门'), ('玄武门', '鼓楼'), ('鼓楼', '珠江路'), ('珠江路', '新街口'), ('新街口', '张府园'), ('新街口', '上海路'), ('新街口', '大行宫'), ('张府园', '三山街'), ('三山街', '中华门'), ('中华门', '安德门'), ('安德门', '天隆寺'), ('安德门', '小行'), ('天隆寺', '软件大道'), ('软件大道', '花神庙'), ('花神庙', '南京南站'), ('南京南站', '双龙大道'), ('南京南站', '明城大道'), ('南京南站', '宏运大道'), ('南京南站', '翠屏山'), ('南京南站', '景明佳园站'), ('双龙大道', '河定桥'), ('河定桥', '胜太路'), ('胜太路', '百家湖'), ('百家湖', '小龙湾'), ('小龙湾', '竹山路'), ('竹山路', '天印大道'), ('天印大道', '龙眠大道'), ('龙眠大道', '南医大江苏经贸学院'), ('南医大江苏经贸学院', '南京交院'), ('南京交院', '中国药科大学'), ('油坊桥', '雨润大街'), ('雨润大街', '元通'), ('元通', '奥体东站'), ('元通', '中胜'), ('元通', '奥体中心'), ('奥体东站', '兴隆大街'), ('兴隆大街', '集庆门大街'), ('集庆门大街', '云锦路'), ('云锦路', '莫愁湖'), ('莫愁湖', '汉中门'), ('汉中门', '上海路'), ('大行宫', '西安门'), ('大行宫', '浮桥'), ('大行宫', '常府街'), ('西安门', '明故宫'), ('明故宫', '苜蓿园'), ('苜蓿园', '下马坊'), ('下马坊', '孝陵卫'), ('孝陵卫', '钟灵街'), ('钟灵街', '马群'), ('马群', '金马路'), ('金马路', '仙鹤门'), ('仙鹤门', '学则路'), ('学则路', '仙林中心'), ('仙林中心', '羊山公园'), ('羊山公园', '南大仙林校区'), ('南大仙林校区', '经天路'), ('林场', '星火路'), ('星火路', '东大成贤学院站'), ('东大成贤学院站', '泰冯路'), ('泰冯路', '天润城'), ('泰冯路', '泰山新村'), ('泰冯路', '高新开发区'), ('天润城', '柳洲东路'), ('柳洲东路', '上元门'), ('上元门', '五塘广场'), ('五塘广场', '小市'), ('南京林业大学新庄', '鸡鸣寺'), ('鸡鸣寺', '浮桥'), ('常府街', '夫子庙'), ('夫子庙', '武定门'), ('武定门', '雨花门'), ('雨花门', '卡子门'), ('卡子门', '大明路'), ('大明路', '明城大道'), ('宏运大道', '胜太西路'), ('胜太西路', '天元西路'), ('天元西路', '九龙湖'), ('九龙湖', '诚信大道'), ('诚信大道', '东大九龙湖校区'), ('东大九龙湖校区', '秣周东路'), ('龙江站', '草场门站'), ('草场门站', '云南路站'), ('云南路站', '鼓楼站'), ('鼓楼站', '鸡鸣寺站'), ('鸡鸣寺站', '九华山站'), ('九华山站', '岗子村站'), ('岗子村站', '蒋王庙站'), ('蒋王庙站', '王家湾站'), ('王家湾站', '聚宝山站'), ('聚宝山站', '徐庄站'), ('徐庄站', '金马路站'), ('金马路站', '汇通路站'), ('汇通路站', '灵山站'), ('灵山站', '东流站'), ('东流站', '孟北站'), ('孟北站', '桦墅站'), ('桦墅站', '仙林湖站'), ('小行', '中胜'), ('奥体中心', '梦都大街'), ('梦都大街', '绿博园'), ('绿博园', '江心洲'), ('江心洲', '临江.青奥体育公园'), ('临江.青奥体育公园', '浦口万汇城'), ('浦口万汇城', '南京工业大学'), ('南京工业大学', '龙华路'), ('龙华路', '文德路'), ('文德路', '雨山路'), ('禄口机场', '翔宇路南'), ('翔宇路南', '翔宇路北'), ('翔宇路北', '正方中路'), ('正方中路', '吉印大道'), ('吉印大道', '河海大学·佛城西路'), ('河海大学·佛城西路', '翠屏山'), ('景明佳园站', '铁心桥站'), ('铁心桥站', '春江路站'), ('春江路站', '贾西站'), ('贾西站', '油坊桥站'), ('油坊桥站', '永初路站'), ('永初路站', '平良大街站'), ('平良大街站', '吴侯街站'), ('吴侯街站', '高庙路站'), ('高庙路站', '天保站'), ('天保站', '刘村站'), ('刘村站', '马骡圩站'), ('马骡圩站', '兰花塘站'), ('兰花塘站', '双垅站'), ('双垅站', '石碛河站'), ('石碛河站', '桥林新城站'), ('桥林新城站', '林山站'), ('林山站', '高家冲站'), ('禄口机场站', '空港新城江宁站'), ('空港新城江宁站', '柘塘站'), ('柘塘站', '空港新城溧水站'), ('空港新城溧水站', '群力站'), ('群力站', '卧龙湖站'), ('卧龙湖站', '溧水站'), ('溧水站', '中山湖站'), ('中山湖站', '幸庄站'), ('幸庄站', '无想山站'), ('高新开发区', '信息工程大学'), ('信息工程大学', '卸甲甸'), ('卸甲甸', '大厂'), ('大厂', '葛塘'), ('葛塘', '长芦'), ('长芦', '化工园'), ('化工园', '六和开发区'), ('六和开发区', '龙池'), ('龙池', '雄州'), ('雄州', '凤凰山公园'), ('凤凰山公园', '方州广场'), ('方州广场', '沈桥'), ('沈桥', '八百桥'), ('八百桥', '金牛湖'), ('翔宇南路', '铜山站'), ('铜山站', '石湫站'), ('石湫站', '明觉站'), ('明觉站', '团结圩'), ('团结圩', '高淳站')]\n"
     ]
    }
   ],
   "source": [
    "print(\"Edges:\", G.edges())"
   ]
  },
  {
   "cell_type": "code",
   "execution_count": 19,
   "metadata": {},
   "outputs": [
    {
     "name": "stdout",
     "output_type": "stream",
     "text": [
      "新街口==>大行宫: {'weight': 1022, 'line': '2号线'}\n"
     ]
    }
   ],
   "source": [
    "print(\"新街口==>大行宫:\", G['新街口']['大行宫'])"
   ]
  },
  {
   "cell_type": "code",
   "execution_count": 20,
   "metadata": {},
   "outputs": [
    {
     "name": "stdout",
     "output_type": "stream",
     "text": [
      "大行宫==>新街口: {'weight': 1022, 'line': '2号线'}\n"
     ]
    }
   ],
   "source": [
    "print(\"大行宫==>新街口:\", G['大行宫']['新街口'])"
   ]
  },
  {
   "cell_type": "code",
   "execution_count": 21,
   "metadata": {},
   "outputs": [
    {
     "name": "stdout",
     "output_type": "stream",
     "text": [
      "新街口==>张府园: {'weight': 1125, 'line': '1号线'}\n"
     ]
    }
   ],
   "source": [
    "print(\"新街口==>张府园:\", G['新街口']['张府园'])"
   ]
  },
  {
   "cell_type": "markdown",
   "metadata": {},
   "source": [
    "### 3. Build the search agent"
   ]
  },
  {
   "cell_type": "code",
   "execution_count": 22,
   "metadata": {},
   "outputs": [],
   "source": [
    "import matplotlib.pyplot as plt\n",
    "%matplotlib inline"
   ]
  },
  {
   "cell_type": "code",
   "execution_count": 23,
   "metadata": {},
   "outputs": [
    {
     "name": "stderr",
     "output_type": "stream",
     "text": [
      "D:\\Program\\Anaconda3\\lib\\site-packages\\networkx\\drawing\\nx_pylab.py:611: MatplotlibDeprecationWarning: isinstance(..., numbers.Number)\n",
      "  if cb.is_numlike(alpha):\n"
     ]
    },
    {
     "data": {
      "image/png": "[encoded data removed]",
      "text/plain": [
       "<Figure size 432x288 with 1 Axes>"
      ]
     },
     "metadata": {},
     "output_type": "display_data"
    }
   ],
   "source": [
    "nx.draw(G, with_labels=True, node_size=30)"
   ]
  },
  {
   "cell_type": "code",
   "execution_count": 45,
   "metadata": {},
   "outputs": [],
   "source": [
    "def search_normal(station_from, station_to, graph):\n",
    "    pathes = [[station_from]]\n",
    "    \n",
    "    visitied = set()\n",
    "    \n",
    "    while pathes:\n",
    "        path = pathes.pop(0)\n",
    "        froninter = path[-1]\n",
    "        if froninter in visitied: continue\n",
    "        successors = graph[froninter]\n",
    "        for station, eattr in successors.items():\n",
    "            if station in path: continue  # eliminate loop\n",
    "            new_path = path + [station]\n",
    "            pathes.append(new_path)\n",
    "            #print(new_path)\n",
    "            if station == station_to: return new_path\n",
    "        \n",
    "        visitied.add(froninter)"
   ]
  },
  {
   "cell_type": "code",
   "execution_count": 46,
   "metadata": {},
   "outputs": [
    {
     "data": {
      "text/plain": [
       "'南京站'"
      ]
     },
     "execution_count": 46,
     "metadata": {},
     "output_type": "execute_result"
    }
   ],
   "source": [
    "path = search_normal('百家湖', '南京站', G)\n",
    "path[-1]"
   ]
  },
  {
   "cell_type": "code",
   "execution_count": 41,
   "metadata": {},
   "outputs": [
    {
     "data": {
      "text/plain": [
       "[18, 18, 25, 25, 19, 17]"
      ]
     },
     "execution_count": 41,
     "metadata": {},
     "output_type": "execute_result"
    }
   ],
   "source": [
    "[len(p) for p in nx.all_simple_paths(G, source='百家湖', target='南京站')]"
   ]
  },
  {
   "cell_type": "markdown",
   "metadata": {},
   "source": [
    "### 4 Create different policies for transfer system."
   ]
  },
  {
   "cell_type": "code",
   "execution_count": 51,
   "metadata": {},
   "outputs": [],
   "source": [
    "def search(station_from, station_to, graph, sort_candidate):\n",
    "    pathes = [[station_from]]\n",
    "    \n",
    "    visitied = set()\n",
    "    \n",
    "    while pathes: # if we find existing pathes\n",
    "        path = pathes.pop(0)\n",
    "        froninter = path[-1]\n",
    "        \n",
    "        if froninter in visitied: continue\n",
    "            \n",
    "        successors = graph[froninter]\n",
    "        \n",
    "        for station, eattr in successors.items():\n",
    "            if station in path: continue  # eliminate loop\n",
    "            new_path = path + [station]\n",
    "            pathes.append(new_path)\n",
    "            #print(new_path)\n",
    "            if station == station_to: return new_path\n",
    "        \n",
    "        visitied.add(froninter)\n",
    "        \n",
    "        pathes = sort_candidate(graph, pathes) # 我们可以加一个排序函数 对我们的搜索策略进行控制"
   ]
  },
  {
   "cell_type": "code",
   "execution_count": 58,
   "metadata": {},
   "outputs": [],
   "source": [
    "def transfer_line_less_first(graph, pathes):\n",
    "    if len(pathes) <= 1: return pathes\n",
    "    \n",
    "    def get_switch_num(path):\n",
    "        switch = 0\n",
    "        last_line = graph.edges[path[0], path[1]]['line']\n",
    "        \n",
    "        for i, station in enumerate(path[:-1]):\n",
    "            if i == 0:\n",
    "                continue\n",
    "            else:\n",
    "                if last_line != graph.edges[station, path[i+1]]['line']:\n",
    "                    switch += 1\n",
    "                    last_line = graph.edges[path[0], path[1]]['line']\n",
    "\n",
    "        return switch\n",
    "\n",
    "    return sorted(pathes, key=get_switch_num)"
   ]
  },
  {
   "cell_type": "code",
   "execution_count": 62,
   "metadata": {},
   "outputs": [],
   "source": [
    "def shortest_path_first(graph, pathes):\n",
    "    \n",
    "    if len(pathes) <= 1: return pathes\n",
    "    \n",
    "    def get_path_distnace(path):\n",
    "        distance = 0\n",
    "        for i, station in enumerate(path[:-1]):\n",
    "            distance += graph.edges[station, path[i+1]]['weight']\n",
    "            \n",
    "        return distance\n",
    "\n",
    "    return sorted(pathes, key=get_path_distnace)"
   ]
  },
  {
   "cell_type": "code",
   "execution_count": 63,
   "metadata": {},
   "outputs": [
    {
     "data": {
      "text/plain": [
       "['百家湖',\n",
       " '胜太路',\n",
       " '河定桥',\n",
       " '双龙大道',\n",
       " '南京南站',\n",
       " '花神庙',\n",
       " '软件大道',\n",
       " '天隆寺',\n",
       " '安德门',\n",
       " '中华门',\n",
       " '三山街',\n",
       " '张府园',\n",
       " '新街口',\n",
       " '珠江路',\n",
       " '鼓楼',\n",
       " '玄武门',\n",
       " '新模范马路',\n",
       " '南京站']"
      ]
     },
     "execution_count": 63,
     "metadata": {},
     "output_type": "execute_result"
    }
   ],
   "source": [
    "search('百家湖', '南京站', G, transfer_line_less_first)"
   ]
  },
  {
   "cell_type": "code",
   "execution_count": 64,
   "metadata": {},
   "outputs": [
    {
     "data": {
      "text/plain": [
       "['百家湖',\n",
       " '胜太路',\n",
       " '河定桥',\n",
       " '双龙大道',\n",
       " '南京南站',\n",
       " '明城大道',\n",
       " '大明路',\n",
       " '卡子门',\n",
       " '雨花门',\n",
       " '武定门',\n",
       " '夫子庙',\n",
       " '常府街',\n",
       " '大行宫',\n",
       " '浮桥',\n",
       " '鸡鸣寺',\n",
       " '南京林业大学新庄',\n",
       " '南京站']"
      ]
     },
     "execution_count": 64,
     "metadata": {},
     "output_type": "execute_result"
    }
   ],
   "source": [
    "search('百家湖', '南京站', G, shortest_path_first)"
   ]
  },
  {
   "cell_type": "markdown",
   "metadata": {},
   "source": [
    "### 5. Test your result with commercial applications."
   ]
  },
  {
   "cell_type": "code",
   "execution_count": null,
   "metadata": {},
   "outputs": [],
   "source": []
  }
 ],
 "metadata": {
  "kernelspec": {
   "display_name": "Python 3",
   "language": "python",
   "name": "python3"
  },
  "language_info": {
   "codemirror_mode": {
    "name": "ipython",
    "version": 3
   },
   "file_extension": ".py",
   "mimetype": "text/x-python",
   "name": "python",
   "nbconvert_exporter": "python",
   "pygments_lexer": "ipython3",
   "version": "3.7.1"
  }
 },
 "nbformat": 4,
 "nbformat_minor": 2
}

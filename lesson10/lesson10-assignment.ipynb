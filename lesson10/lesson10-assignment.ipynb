{
 "cells": [
  {
   "cell_type": "markdown",
   "metadata": {},
   "source": [
    "# Using word2vec + fully connected neural networks to finish “豆瓣评论” classification"
   ]
  },
  {
   "cell_type": "markdown",
   "metadata": {},
   "source": [
    "## 1. 加载数据"
   ]
  },
  {
   "cell_type": "code",
   "execution_count": 1,
   "metadata": {},
   "outputs": [
    {
     "name": "stderr",
     "output_type": "stream",
     "text": [
      "D:\\Program\\Anaconda3\\lib\\site-packages\\IPython\\core\\interactiveshell.py:3020: DtypeWarning: Columns (0,4) have mixed types. Specify dtype option on import or set low_memory=False.\n",
      "  interactivity=interactivity, compiler=compiler, result=result)\n"
     ]
    },
    {
     "data": {
      "text/html": [
       "<div>\n",
       "<style scoped>\n",
       "    .dataframe tbody tr th:only-of-type {\n",
       "        vertical-align: middle;\n",
       "    }\n",
       "\n",
       "    .dataframe tbody tr th {\n",
       "        vertical-align: top;\n",
       "    }\n",
       "\n",
       "    .dataframe thead th {\n",
       "        text-align: right;\n",
       "    }\n",
       "</style>\n",
       "<table border=\"1\" class=\"dataframe\">\n",
       "  <thead>\n",
       "    <tr style=\"text-align: right;\">\n",
       "      <th></th>\n",
       "      <th>id</th>\n",
       "      <th>link</th>\n",
       "      <th>name</th>\n",
       "      <th>comment</th>\n",
       "      <th>star</th>\n",
       "    </tr>\n",
       "  </thead>\n",
       "  <tbody>\n",
       "    <tr>\n",
       "      <th>0</th>\n",
       "      <td>1</td>\n",
       "      <td>https://movie.douban.com/subject/26363254/</td>\n",
       "      <td>战狼2</td>\n",
       "      <td>吴京意淫到了脑残的地步，看了恶心想吐</td>\n",
       "      <td>1</td>\n",
       "    </tr>\n",
       "    <tr>\n",
       "      <th>1</th>\n",
       "      <td>2</td>\n",
       "      <td>https://movie.douban.com/subject/26363254/</td>\n",
       "      <td>战狼2</td>\n",
       "      <td>首映礼看的。太恐怖了这个电影，不讲道理的，完全就是吴京在实现他这个小粉红的英雄梦。各种装备轮...</td>\n",
       "      <td>2</td>\n",
       "    </tr>\n",
       "    <tr>\n",
       "      <th>2</th>\n",
       "      <td>3</td>\n",
       "      <td>https://movie.douban.com/subject/26363254/</td>\n",
       "      <td>战狼2</td>\n",
       "      <td>吴京的炒作水平不输冯小刚，但小刚至少不会用主旋律来炒作…吴京让人看了不舒服，为了主旋律而主旋...</td>\n",
       "      <td>2</td>\n",
       "    </tr>\n",
       "    <tr>\n",
       "      <th>3</th>\n",
       "      <td>4</td>\n",
       "      <td>https://movie.douban.com/subject/26363254/</td>\n",
       "      <td>战狼2</td>\n",
       "      <td>凭良心说，好看到不像《战狼1》的续集，完虐《湄公河行动》。</td>\n",
       "      <td>4</td>\n",
       "    </tr>\n",
       "    <tr>\n",
       "      <th>4</th>\n",
       "      <td>5</td>\n",
       "      <td>https://movie.douban.com/subject/26363254/</td>\n",
       "      <td>战狼2</td>\n",
       "      <td>中二得很</td>\n",
       "      <td>1</td>\n",
       "    </tr>\n",
       "  </tbody>\n",
       "</table>\n",
       "</div>"
      ],
      "text/plain": [
       "  id                                        link name  \\\n",
       "0  1  https://movie.douban.com/subject/26363254/  战狼2   \n",
       "1  2  https://movie.douban.com/subject/26363254/  战狼2   \n",
       "2  3  https://movie.douban.com/subject/26363254/  战狼2   \n",
       "3  4  https://movie.douban.com/subject/26363254/  战狼2   \n",
       "4  5  https://movie.douban.com/subject/26363254/  战狼2   \n",
       "\n",
       "                                             comment star  \n",
       "0                                 吴京意淫到了脑残的地步，看了恶心想吐    1  \n",
       "1  首映礼看的。太恐怖了这个电影，不讲道理的，完全就是吴京在实现他这个小粉红的英雄梦。各种装备轮...    2  \n",
       "2  吴京的炒作水平不输冯小刚，但小刚至少不会用主旋律来炒作…吴京让人看了不舒服，为了主旋律而主旋...    2  \n",
       "3                      凭良心说，好看到不像《战狼1》的续集，完虐《湄公河行动》。    4  \n",
       "4                                               中二得很    1  "
      ]
     },
     "execution_count": 1,
     "metadata": {},
     "output_type": "execute_result"
    }
   ],
   "source": [
    "import pandas as pd\n",
    "fname = 'movie_comments.csv'\n",
    "df = pd.read_csv(fname, encoding='utf8')\n",
    "\n",
    "df.head()"
   ]
  },
  {
   "cell_type": "code",
   "execution_count": 2,
   "metadata": {},
   "outputs": [
    {
     "data": {
      "text/plain": [
       "(261497, 5)"
      ]
     },
     "execution_count": 2,
     "metadata": {},
     "output_type": "execute_result"
    }
   ],
   "source": [
    "df.shape"
   ]
  },
  {
   "cell_type": "markdown",
   "metadata": {},
   "source": [
    "## 2. 数据预处理"
   ]
  },
  {
   "cell_type": "markdown",
   "metadata": {},
   "source": [
    "### 2.1 删除comment为空的数据"
   ]
  },
  {
   "cell_type": "code",
   "execution_count": 3,
   "metadata": {},
   "outputs": [
    {
     "data": {
      "text/plain": [
       "(261495, 5)"
      ]
     },
     "execution_count": 3,
     "metadata": {},
     "output_type": "execute_result"
    }
   ],
   "source": [
    "df = df[pd.notnull(df['comment'])]\n",
    "df.shape"
   ]
  },
  {
   "cell_type": "markdown",
   "metadata": {},
   "source": [
    "### 2.2 删除comment重复的数据"
   ]
  },
  {
   "cell_type": "code",
   "execution_count": 4,
   "metadata": {},
   "outputs": [
    {
     "data": {
      "text/plain": [
       "(213970, 5)"
      ]
     },
     "execution_count": 4,
     "metadata": {},
     "output_type": "execute_result"
    }
   ],
   "source": [
    "df.drop_duplicates(['comment'], inplace=True)\n",
    "df.shape"
   ]
  },
  {
   "cell_type": "markdown",
   "metadata": {},
   "source": [
    "### 2.3 使用jieba对comment分词生成word_tokens"
   ]
  },
  {
   "cell_type": "code",
   "execution_count": 5,
   "metadata": {},
   "outputs": [],
   "source": [
    "import re\n",
    "import jieba\n",
    "\n",
    "def comment_to_word_tokens(comment):\n",
    "    if not isinstance(comment,str):\n",
    "        print(comment)\n",
    "        return\n",
    "    \n",
    "    #print(type(comment))\n",
    "    pattern = re.compile('[\\u4E00-\\u9FA5]')\n",
    "    only_chinese = pattern.findall(comment)\n",
    "    chinese_comment = ''.join(only_chinese)\n",
    "    chinese_tokens = jieba.cut(chinese_comment)\n",
    "    word_tokens = ' '.join(chinese_tokens)\n",
    "    if word_tokens == '':\n",
    "        return None\n",
    "    return word_tokens"
   ]
  },
  {
   "cell_type": "code",
   "execution_count": 6,
   "metadata": {},
   "outputs": [
    {
     "name": "stderr",
     "output_type": "stream",
     "text": [
      "Building prefix dict from the default dictionary ...\n",
      "Loading model from cache C:\\Users\\DINGLI~1\\AppData\\Local\\Temp\\jieba.cache\n",
      "Loading model cost 1.076 seconds.\n",
      "Prefix dict has been built succesfully.\n"
     ]
    }
   ],
   "source": [
    "df['word_tokens'] = df['comment'].apply(comment_to_word_tokens)"
   ]
  },
  {
   "cell_type": "markdown",
   "metadata": {},
   "source": [
    "### 2.4 删除word_tokens 为空的数据"
   ]
  },
  {
   "cell_type": "code",
   "execution_count": 7,
   "metadata": {},
   "outputs": [
    {
     "data": {
      "text/plain": [
       "(208486, 6)"
      ]
     },
     "execution_count": 7,
     "metadata": {},
     "output_type": "execute_result"
    }
   ],
   "source": [
    "df = df[pd.notnull(df['word_tokens'])]\n",
    "df.shape"
   ]
  },
  {
   "cell_type": "markdown",
   "metadata": {},
   "source": [
    "### 2.5 重建索引"
   ]
  },
  {
   "cell_type": "code",
   "execution_count": 8,
   "metadata": {},
   "outputs": [],
   "source": [
    "df.index = range(df.shape[0])"
   ]
  },
  {
   "cell_type": "markdown",
   "metadata": {},
   "source": [
    "### 2.6 检查评分数据"
   ]
  },
  {
   "cell_type": "code",
   "execution_count": 9,
   "metadata": {},
   "outputs": [],
   "source": [
    "import seaborn as sns\n",
    "import matplotlib.pyplot as plt\n",
    "%matplotlib inline\n",
    "\n",
    "def plot_star_count(count_star):\n",
    "    plt.figure(figsize=(12,4))\n",
    "    sns.barplot(count_star.index, count_star.values, alpha=0.8)\n",
    "    plt.ylabel('Number of Occurrences', fontsize=12)\n",
    "    plt.xlabel('Star', fontsize=12)\n",
    "    plt.xticks(rotation=90)\n",
    "    plt.show()"
   ]
  },
  {
   "cell_type": "code",
   "execution_count": 10,
   "metadata": {},
   "outputs": [
    {
     "data": {
      "image/png": "[encoded data removed]",
      "text/plain": [
       "<Figure size 864x288 with 1 Axes>"
      ]
     },
     "metadata": {
      "needs_background": "light"
     },
     "output_type": "display_data"
    }
   ],
   "source": [
    "plot_star_count(df['star'].value_counts())"
   ]
  },
  {
   "cell_type": "markdown",
   "metadata": {},
   "source": [
    "### 2.7 整理评分数据"
   ]
  },
  {
   "cell_type": "code",
   "execution_count": 11,
   "metadata": {},
   "outputs": [],
   "source": [
    "num_str_list = ['0', '1', '2', '3', '4', '5']\n",
    "for i in range(len(num_str_list)):\n",
    "    df.loc[df['star'] == num_str_list[i], 'star'] = i"
   ]
  },
  {
   "cell_type": "code",
   "execution_count": 12,
   "metadata": {},
   "outputs": [
    {
     "data": {
      "image/png": "[encoded data removed]",
      "text/plain": [
       "<Figure size 864x288 with 1 Axes>"
      ]
     },
     "metadata": {
      "needs_background": "light"
     },
     "output_type": "display_data"
    }
   ],
   "source": [
    "plot_star_count(df['star'].value_counts())"
   ]
  },
  {
   "cell_type": "markdown",
   "metadata": {},
   "source": [
    "### 2.8 数据平衡"
   ]
  },
  {
   "cell_type": "code",
   "execution_count": 13,
   "metadata": {},
   "outputs": [],
   "source": [
    "star_counts = df['star'].value_counts()"
   ]
  },
  {
   "cell_type": "code",
   "execution_count": 14,
   "metadata": {},
   "outputs": [],
   "source": [
    "size_per_class = star_counts.min()"
   ]
  },
  {
   "cell_type": "code",
   "execution_count": 68,
   "metadata": {},
   "outputs": [],
   "source": [
    "serie2 = make_banlance_samples(df, 2, size_per_class)"
   ]
  },
  {
   "cell_type": "code",
   "execution_count": 69,
   "metadata": {},
   "outputs": [
    {
     "data": {
      "text/plain": [
       "(19873,)"
      ]
     },
     "execution_count": 69,
     "metadata": {},
     "output_type": "execute_result"
    }
   ],
   "source": [
    "serie2.shape"
   ]
  },
  {
   "cell_type": "code",
   "execution_count": 72,
   "metadata": {},
   "outputs": [],
   "source": [
    "serie2.index = range(serie2.shape[0])"
   ]
  },
  {
   "cell_type": "code",
   "execution_count": 73,
   "metadata": {},
   "outputs": [
    {
     "data": {
      "text/plain": [
       "0    前半段 剥茧抽丝 看上去 倒 是 不雷人 黄子 韬 表现 也 还行 但是 结局 还是 很 中...\n",
       "1             缺 了 阿兰 里克 曼 这样 的 亮点 反派 这片 的 文戏 简直 是 一泡 乌\n",
       "2            除了 堆积 现代 特技 故事 干瘪 演员 能力 有限 男主是 韩国 还是 中国 呀\n",
       "3                                   老套 的 电影 怎么 会 是 年 的\n",
       "4                          跟 九层 妖塔 没 区别 舒淇 港腔 太重 容易 出戏\n",
       "Name: word_tokens, dtype: object"
      ]
     },
     "execution_count": 73,
     "metadata": {},
     "output_type": "execute_result"
    }
   ],
   "source": [
    "serie2.head()"
   ]
  },
  {
   "cell_type": "code",
   "execution_count": 34,
   "metadata": {},
   "outputs": [],
   "source": [
    "star_class_list = df['star'].unique().tolist()\n",
    "star_class_list.sort()"
   ]
  },
  {
   "cell_type": "code",
   "execution_count": 35,
   "metadata": {},
   "outputs": [
    {
     "name": "stdout",
     "output_type": "stream",
     "text": [
      "[1, 2, 3, 4, 5]\n"
     ]
    }
   ],
   "source": [
    "print(star_class_list)"
   ]
  },
  {
   "cell_type": "code",
   "execution_count": 83,
   "metadata": {},
   "outputs": [
    {
     "name": "stdout",
     "output_type": "stream",
     "text": [
      "star_2\n"
     ]
    }
   ],
   "source": [
    "star = 'star_{}'.format(2)\n",
    "print(star)"
   ]
  },
  {
   "cell_type": "code",
   "execution_count": 99,
   "metadata": {},
   "outputs": [],
   "source": [
    "def make_banlance_samples(df, star_class, size_per_class):\n",
    "    tmp_ser = df['word_tokens'][df['star'] == star_class]\n",
    "    if tmp_ser.shape[0] > size_per_class:\n",
    "        tmp_ser = tmp_ser.sample(n=size_per_class, random_state=42)\n",
    "    tmp_ser.index = range(tmp_ser.shape[0])\n",
    "    #tmp_ser.name = 'star_{}'.format(star_class)\n",
    "    return tmp_ser"
   ]
  },
  {
   "cell_type": "code",
   "execution_count": 100,
   "metadata": {},
   "outputs": [],
   "source": [
    "def merge_df(df, star_class_list, size_per_class):\n",
    "    new_df = pd.DataFrame()\n",
    "    for star_class in star_class_list:\n",
    "        star_ser = make_banlance_samples(df, star_class, size_per_class)\n",
    "        #star = 'star_{}'.format(star_class)\n",
    "        new_df = pd.concat([new_df, pd.DataFrame(star_ser)], axis=1, ignore_index=True)\n",
    "        #new_df = new_df.append(make_banlance_samples(df, star_class, size_per_class))\n",
    "    \n",
    "    return new_df"
   ]
  },
  {
   "cell_type": "code",
   "execution_count": 101,
   "metadata": {},
   "outputs": [],
   "source": [
    "new_df = merge_df(df, star_class_list, size_per_class)\n",
    "new_df.columns=['star_1', 'star_2', 'star_3', 'star_4','star_5']"
   ]
  },
  {
   "cell_type": "code",
   "execution_count": 102,
   "metadata": {},
   "outputs": [
    {
     "data": {
      "text/html": [
       "<div>\n",
       "<style scoped>\n",
       "    .dataframe tbody tr th:only-of-type {\n",
       "        vertical-align: middle;\n",
       "    }\n",
       "\n",
       "    .dataframe tbody tr th {\n",
       "        vertical-align: top;\n",
       "    }\n",
       "\n",
       "    .dataframe thead th {\n",
       "        text-align: right;\n",
       "    }\n",
       "</style>\n",
       "<table border=\"1\" class=\"dataframe\">\n",
       "  <thead>\n",
       "    <tr style=\"text-align: right;\">\n",
       "      <th></th>\n",
       "      <th>star_1</th>\n",
       "      <th>star_2</th>\n",
       "      <th>star_3</th>\n",
       "      <th>star_4</th>\n",
       "      <th>star_5</th>\n",
       "    </tr>\n",
       "  </thead>\n",
       "  <tbody>\n",
       "    <tr>\n",
       "      <th>0</th>\n",
       "      <td>吴京 意淫 到 了 脑残 的 地步 看 了 恶心 想 吐</td>\n",
       "      <td>前半段 剥茧抽丝 看上去 倒 是 不雷人 黄子 韬 表现 也 还行 但是 结局 还是 很 中...</td>\n",
       "      <td>场景 文艺 爱情 文艺</td>\n",
       "      <td>机油 搞笑 不能 因为 烂 名字 错过 的</td>\n",
       "      <td>美好 的 小事</td>\n",
       "    </tr>\n",
       "    <tr>\n",
       "      <th>1</th>\n",
       "      <td>中二得 很</td>\n",
       "      <td>缺 了 阿兰 里克 曼 这样 的 亮点 反派 这片 的 文戏 简直 是 一泡 乌</td>\n",
       "      <td>我 觉得 这种 咨询 顾问 不 可能 有效</td>\n",
       "      <td>对于 这样 的 经典 我 在 抱 有 充分 尊重 的 同时 也 习惯于 带 着 质疑 去 欣...</td>\n",
       "      <td>反过来 的 非常 突然</td>\n",
       "    </tr>\n",
       "    <tr>\n",
       "      <th>2</th>\n",
       "      <td>犯 我 中华 者 虽远必 诛 吴京 比 这句 话 还要 意淫 一百倍</td>\n",
       "      <td>除了 堆积 现代 特技 故事 干瘪 演员 能力 有限 男主是 韩国 还是 中国 呀</td>\n",
       "      <td>看到 后面 才 说出 这 其实 是 旅游 广告片 么 里面 的 主旨 是 有 的 略 矫情 ...</td>\n",
       "      <td>重温 原来 第一站 那么 好看 场面 精彩 流畅 大气 情绪 渲染 到位 配乐 十分 燃 剧...</td>\n",
       "      <td>大师</td>\n",
       "    </tr>\n",
       "    <tr>\n",
       "      <th>3</th>\n",
       "      <td>吴京 的 冷峰 在 这部 里 即 像 成龙 又 像杰 森斯坦 森但 体制 外 的 同 类型 ...</td>\n",
       "      <td>老套 的 电影 怎么 会 是 年 的</td>\n",
       "      <td>大 隐隐 于市</td>\n",
       "      <td>女人 也 可以 不 依靠 任何人 而活 的 很 好 当然 这 取决于 她 自身 对 爱情 友...</td>\n",
       "      <td>李安 把 中西文化 结合 的 恰到好处 做足 了 细节 相比之下 前期 作品 更 打动 人</td>\n",
       "    </tr>\n",
       "    <tr>\n",
       "      <th>4</th>\n",
       "      <td>犯 我 中华 者 虽远必 诛 是 有 多 无脑 才 信 这句 话</td>\n",
       "      <td>跟 九层 妖塔 没 区别 舒淇 港腔 太重 容易 出戏</td>\n",
       "      <td>我 好像 不是 很 喜欢 这个 姑娘 啊</td>\n",
       "      <td>制作 非常 好 不过 剧情 太 日本</td>\n",
       "      <td>感动 落泪</td>\n",
       "    </tr>\n",
       "  </tbody>\n",
       "</table>\n",
       "</div>"
      ],
      "text/plain": [
       "                                              star_1  \\\n",
       "0                       吴京 意淫 到 了 脑残 的 地步 看 了 恶心 想 吐   \n",
       "1                                              中二得 很   \n",
       "2                 犯 我 中华 者 虽远必 诛 吴京 比 这句 话 还要 意淫 一百倍   \n",
       "3  吴京 的 冷峰 在 这部 里 即 像 成龙 又 像杰 森斯坦 森但 体制 外 的 同 类型 ...   \n",
       "4                   犯 我 中华 者 虽远必 诛 是 有 多 无脑 才 信 这句 话   \n",
       "\n",
       "                                              star_2  \\\n",
       "0  前半段 剥茧抽丝 看上去 倒 是 不雷人 黄子 韬 表现 也 还行 但是 结局 还是 很 中...   \n",
       "1           缺 了 阿兰 里克 曼 这样 的 亮点 反派 这片 的 文戏 简直 是 一泡 乌   \n",
       "2          除了 堆积 现代 特技 故事 干瘪 演员 能力 有限 男主是 韩国 还是 中国 呀   \n",
       "3                                 老套 的 电影 怎么 会 是 年 的   \n",
       "4                        跟 九层 妖塔 没 区别 舒淇 港腔 太重 容易 出戏   \n",
       "\n",
       "                                              star_3  \\\n",
       "0                                        场景 文艺 爱情 文艺   \n",
       "1                              我 觉得 这种 咨询 顾问 不 可能 有效   \n",
       "2  看到 后面 才 说出 这 其实 是 旅游 广告片 么 里面 的 主旨 是 有 的 略 矫情 ...   \n",
       "3                                            大 隐隐 于市   \n",
       "4                               我 好像 不是 很 喜欢 这个 姑娘 啊   \n",
       "\n",
       "                                              star_4  \\\n",
       "0                              机油 搞笑 不能 因为 烂 名字 错过 的   \n",
       "1  对于 这样 的 经典 我 在 抱 有 充分 尊重 的 同时 也 习惯于 带 着 质疑 去 欣...   \n",
       "2  重温 原来 第一站 那么 好看 场面 精彩 流畅 大气 情绪 渲染 到位 配乐 十分 燃 剧...   \n",
       "3  女人 也 可以 不 依靠 任何人 而活 的 很 好 当然 这 取决于 她 自身 对 爱情 友...   \n",
       "4                                 制作 非常 好 不过 剧情 太 日本   \n",
       "\n",
       "                                          star_5  \n",
       "0                                        美好 的 小事  \n",
       "1                                    反过来 的 非常 突然  \n",
       "2                                             大师  \n",
       "3  李安 把 中西文化 结合 的 恰到好处 做足 了 细节 相比之下 前期 作品 更 打动 人  \n",
       "4                                          感动 落泪  "
      ]
     },
     "execution_count": 102,
     "metadata": {},
     "output_type": "execute_result"
    }
   ],
   "source": [
    "new_df.head()"
   ]
  },
  {
   "cell_type": "code",
   "execution_count": 103,
   "metadata": {},
   "outputs": [],
   "source": [
    "new_df.to_csv('douban.csv',index=False)"
   ]
  },
  {
   "cell_type": "markdown",
   "metadata": {},
   "source": [
    "## 3. 从词向量到句向量"
   ]
  },
  {
   "cell_type": "markdown",
   "metadata": {},
   "source": [
    "### 3.1 加载训练好的word2vec 模型"
   ]
  },
  {
   "cell_type": "code",
   "execution_count": 104,
   "metadata": {},
   "outputs": [],
   "source": [
    "from gensim.models import Word2Vec\n",
    "zh_wiki_word2vec_model = Word2Vec.load('../lesson04/cbow_word2vec.model')"
   ]
  },
  {
   "cell_type": "code",
   "execution_count": 105,
   "metadata": {},
   "outputs": [
    {
     "data": {
      "text/plain": [
       "200"
      ]
     },
     "execution_count": 105,
     "metadata": {},
     "output_type": "execute_result"
    }
   ],
   "source": [
    "zh_wiki_word2vec_model.vector_size"
   ]
  },
  {
   "cell_type": "markdown",
   "metadata": {},
   "source": [
    " ### 3.2 sentence embedding\n",
    " \n",
    " A Simple but Tough-to-Beat Baseline for Sentence Embeddings\n",
    " ref： https://github.com/PrincetonML/SIF"
   ]
  },
  {
   "cell_type": "code",
   "execution_count": 106,
   "metadata": {},
   "outputs": [],
   "source": [
    "def get_word_frequency(word, model):\n",
    "    try:\n",
    "        freq = model.wv.vocab[word].count\n",
    "    except KeyError:\n",
    "        freq = 1.0\n",
    "    return freq"
   ]
  },
  {
   "cell_type": "code",
   "execution_count": 107,
   "metadata": {},
   "outputs": [],
   "source": [
    "def get_word_vector(word, model):\n",
    "    try:\n",
    "        vec = model[word]\n",
    "    except KeyError:\n",
    "        vec = np.zeros(model.vector_size)\n",
    "    return vec"
   ]
  },
  {
   "cell_type": "code",
   "execution_count": 108,
   "metadata": {},
   "outputs": [],
   "source": [
    "import numpy as np"
   ]
  },
  {
   "cell_type": "code",
   "execution_count": 109,
   "metadata": {},
   "outputs": [],
   "source": [
    "from sklearn.decomposition import PCA"
   ]
  },
  {
   "cell_type": "code",
   "execution_count": 110,
   "metadata": {},
   "outputs": [],
   "source": [
    "def sentence_to_vec(sentence_list, word2vec_model, a=1e-3):\n",
    "    \n",
    "    embedding_size = word2vec_model.vector_size\n",
    "    sentence_set = []\n",
    "\n",
    "    for sentence in sentence_list:\n",
    "        vs = np.zeros(embedding_size, dtype=np.float32)  # add all word2vec values into one vector for the sentence\n",
    "        word_tokens = sentence.split()\n",
    "        sentence_length = len(word_tokens)\n",
    "\n",
    "        for word in word_tokens:\n",
    "            a_value = a / (a + get_word_frequency(word, word2vec_model))  # smooth inverse frequency, SIF\n",
    "            vs = np.add(vs, np.multiply(a_value, get_word_vector(word, word2vec_model)))  # vs += sif * word_vector\n",
    "\n",
    "        vs = np.divide(vs, sentence_length)  # weighted average\n",
    "        sentence_set.append(vs)  # add to our existing re-calculated set of sentences\n",
    "\n",
    "    \n",
    "    # calculate PCA of this sentence set\n",
    "    pca = PCA(n_components=embedding_size)\n",
    "    pca.fit(np.array(sentence_set))\n",
    "    u = pca.components_[0]  # the PCA vector\n",
    "    u = np.multiply(u, np.transpose(u))  # u x uT\n",
    "\n",
    "    # pad the vector?  (occurs if we have less sentences than embeddings_size)\n",
    "    if len(u) < embedding_size:\n",
    "        for i in range(embedding_size - len(u)):\n",
    "            u = np.append(u, 0)  # add needed extension for multiplication below\n",
    "\n",
    "    # resulting sentence vectors, vs = vs -u x uT x vs\n",
    "    sentence_vecs = []\n",
    "    for vs in sentence_set:\n",
    "        sub = np.multiply(u, vs)\n",
    "        sentence_vecs.append(np.subtract(vs, sub).astype(np.float32))\n",
    "\n",
    "    return sentence_vecs"
   ]
  },
  {
   "cell_type": "code",
   "execution_count": 111,
   "metadata": {},
   "outputs": [],
   "source": [
    "star_names = ['star_1', 'star_2', 'star_3', 'star_4','star_5']"
   ]
  },
  {
   "cell_type": "code",
   "execution_count": 115,
   "metadata": {},
   "outputs": [
    {
     "name": "stderr",
     "output_type": "stream",
     "text": [
      "D:\\Program\\Anaconda3\\lib\\site-packages\\ipykernel_launcher.py:3: DeprecationWarning: Call to deprecated `__getitem__` (Method will be removed in 4.0.0, use self.wv.__getitem__() instead).\n",
      "  This is separate from the ipykernel package so we can avoid doing imports until\n",
      "D:\\Program\\Anaconda3\\lib\\site-packages\\ipykernel_launcher.py:3: DeprecationWarning: Call to deprecated `__getitem__` (Method will be removed in 4.0.0, use self.wv.__getitem__() instead).\n",
      "  This is separate from the ipykernel package so we can avoid doing imports until\n",
      "D:\\Program\\Anaconda3\\lib\\site-packages\\ipykernel_launcher.py:3: DeprecationWarning: Call to deprecated `__getitem__` (Method will be removed in 4.0.0, use self.wv.__getitem__() instead).\n",
      "  This is separate from the ipykernel package so we can avoid doing imports until\n",
      "D:\\Program\\Anaconda3\\lib\\site-packages\\ipykernel_launcher.py:3: DeprecationWarning: Call to deprecated `__getitem__` (Method will be removed in 4.0.0, use self.wv.__getitem__() instead).\n",
      "  This is separate from the ipykernel package so we can avoid doing imports until\n",
      "D:\\Program\\Anaconda3\\lib\\site-packages\\ipykernel_launcher.py:3: DeprecationWarning: Call to deprecated `__getitem__` (Method will be removed in 4.0.0, use self.wv.__getitem__() instead).\n",
      "  This is separate from the ipykernel package so we can avoid doing imports until\n"
     ]
    }
   ],
   "source": [
    "from six.moves import cPickle as pickle\n",
    "\n",
    "for star_name in star_names:\n",
    "    sentence_vectors = sentence_to_vec(new_df[star_name], zh_wiki_word2vec_model)\n",
    "    dataset = np.array(sentence_vectors)\n",
    "    set_filename = star_name + '.pickle'\n",
    "    try:\n",
    "        with open(set_filename, 'wb') as f:\n",
    "            pickle.dump(dataset, f, pickle.HIGHEST_PROTOCOL)\n",
    "    except Exception as e:\n",
    "        print('Unable to save data to', set_filename, ':', e)"
   ]
  },
  {
   "cell_type": "markdown",
   "metadata": {},
   "source": [
    "##  4.Train neaual network model"
   ]
  },
  {
   "cell_type": "markdown",
   "metadata": {},
   "source": [
    "## 4.1 按比例70 15 15 划分训练集，验证集，测试集"
   ]
  },
  {
   "cell_type": "code",
   "execution_count": 116,
   "metadata": {},
   "outputs": [],
   "source": [
    "star_names = ['star_1', 'star_2', 'star_3', 'star_4','star_5']\n",
    "pickle_files = []\n",
    "for star_name in star_names:\n",
    "    pickle_files.append(star_name + '.pickle')"
   ]
  },
  {
   "cell_type": "code",
   "execution_count": 122,
   "metadata": {},
   "outputs": [
    {
     "name": "stdout",
     "output_type": "stream",
     "text": [
      "number of pictures in star_1.pickle =  (19873, 200)\n",
      "number of pictures in star_2.pickle =  (19873, 200)\n",
      "number of pictures in star_3.pickle =  (19873, 200)\n",
      "number of pictures in star_4.pickle =  (19873, 200)\n",
      "number of pictures in star_5.pickle =  (19873, 200)\n"
     ]
    }
   ],
   "source": [
    "for pickle_file in pickle_files:\n",
    "    with open(pickle_file, 'rb') as pk_f:\n",
    "        dat = pickle.load(pk_f)\n",
    "    print('number of pictures in {} = '.format(pickle_file), dat.shape)"
   ]
  },
  {
   "cell_type": "code",
   "execution_count": 134,
   "metadata": {},
   "outputs": [],
   "source": [
    "def make_arrays(nb_rows, embedding_size):\n",
    "    dataset = np.ndarray((nb_rows, embedding_size), dtype=np.float32)\n",
    "    labels = np.ndarray(nb_rows, dtype=np.int32)\n",
    "    return dataset, labels\n",
    "\n",
    "def merge_datasets(pickle_files, embedding_size, sample_size_per_class, train_ratio, valid_ratio, test_ratio):\n",
    "    \n",
    "    train_size_per_class = int(sample_size_per_class * train_ratio)\n",
    "    valid_size_per_class = int(sample_size_per_class * valid_ratio)\n",
    "    test_size_per_class  = int(sample_size_per_class * test_ratio)\n",
    "\n",
    "    num_classes = len(pickle_files)\n",
    "    train_dataset, train_labels = make_arrays(train_size_per_class*num_classes, embedding_size)\n",
    "    valid_dataset, valid_labels = make_arrays(valid_size_per_class*num_classes, embedding_size)\n",
    "    test_dataset,   test_labels = make_arrays(test_size_per_class*num_classes, embedding_size)\n",
    "    \n",
    "    start_train, start_valid, start_test = 0, 0, 0\n",
    "    end_train, end_valid, end_test = train_size_per_class, valid_size_per_class, test_size_per_class\n",
    "    end_train_valid = train_size_per_class + valid_size_per_class\n",
    "    end_last = train_size_per_class + valid_size_per_class + test_size_per_class\n",
    "\n",
    "    for label, pickle_file in enumerate(pickle_files):\n",
    "        try:\n",
    "            with open(pickle_file, 'rb') as f:\n",
    "                letter_set = pickle.load(f)\n",
    "                # let's shuffle the letters to have random validation and training set\n",
    "                np.random.shuffle(letter_set)\n",
    "\n",
    "                train_letter = letter_set[:train_size_per_class, :]\n",
    "                train_dataset[start_train:end_train, :] = train_letter\n",
    "                train_labels[start_train:end_train] = label\n",
    "                start_train += train_size_per_class\n",
    "                end_train += train_size_per_class\n",
    "\n",
    "                valid_letter = letter_set[train_size_per_class:end_train_valid, :]\n",
    "                valid_dataset[start_valid:end_valid, :] = valid_letter\n",
    "                valid_labels[start_valid:end_valid] = label\n",
    "                start_valid += valid_size_per_class\n",
    "                end_valid += valid_size_per_class\n",
    "\n",
    "                test_letter = letter_set[end_train_valid:end_last, :]\n",
    "                test_dataset[start_test:end_test, :] = test_letter\n",
    "                test_labels[start_test:end_test] = label\n",
    "                start_test += test_size_per_class\n",
    "                end_test += test_size_per_class\n",
    "\n",
    "        except Exception as e:\n",
    "            print('Unable to process data from', pickle_file, ':', e)\n",
    "            raise\n",
    "    \n",
    "    return train_dataset, train_labels, valid_dataset, valid_labels, test_dataset, test_labels"
   ]
  },
  {
   "cell_type": "code",
   "execution_count": 135,
   "metadata": {},
   "outputs": [
    {
     "name": "stdout",
     "output_type": "stream",
     "text": [
      "Training: (79490, 200) (79490,)\n",
      "Validation: (9935, 200) (9935,)\n",
      "Testing: (9935, 200) (9935,)\n"
     ]
    }
   ],
   "source": [
    "train_dataset, train_labels, valid_dataset, valid_labels, test_dataset, test_labels = merge_datasets(\n",
    "    pickle_files, 200, 19873, 0.8, 0.1, 0.1)\n",
    "\n",
    "print('Training:', train_dataset.shape, train_labels.shape)\n",
    "print('Validation:', valid_dataset.shape, valid_labels.shape)\n",
    "print('Testing:', test_dataset.shape, test_labels.shape)"
   ]
  },
  {
   "cell_type": "code",
   "execution_count": 138,
   "metadata": {},
   "outputs": [
    {
     "name": "stdout",
     "output_type": "stream",
     "text": [
      "Training set (79490, 200) (79490, 5)\n",
      "Validation set (9935, 200) (9935, 5)\n",
      "Test set (9935, 200) (9935, 5)\n"
     ]
    }
   ],
   "source": [
    "num_labels = 5\n",
    "\n",
    "def reformat(labels):\n",
    "    # Map 0 to [1.0, 0.0, 0.0 ...], 1 to [0.0, 1.0, 0.0 ...]\n",
    "    labels = (np.arange(num_labels) == labels[:,None]).astype(np.float32)\n",
    "    return labels\n",
    "train_labels = reformat(train_labels)\n",
    "valid_labels = reformat(valid_labels)\n",
    "test_labels = reformat(test_labels)\n",
    "print('Training set', train_dataset.shape, train_labels.shape)\n",
    "print('Validation set', valid_dataset.shape, valid_labels.shape)\n",
    "print('Test set', test_dataset.shape, test_labels.shape)"
   ]
  },
  {
   "cell_type": "markdown",
   "metadata": {},
   "source": [
    "### 4.2 构建tf graph"
   ]
  },
  {
   "cell_type": "code",
   "execution_count": 139,
   "metadata": {},
   "outputs": [],
   "source": [
    "embedding_size = zh_wiki_word2vec_model.vector_size\n",
    "num_labels = 5"
   ]
  },
  {
   "cell_type": "code",
   "execution_count": 140,
   "metadata": {},
   "outputs": [],
   "source": [
    "import tensorflow as tf"
   ]
  },
  {
   "cell_type": "code",
   "execution_count": 141,
   "metadata": {},
   "outputs": [],
   "source": [
    "\n",
    "num_nodes= 1024\n",
    "batch_size = 128\n",
    "\n",
    "graph = tf.Graph()\n",
    "with graph.as_default():\n",
    "\n",
    "    # Input data. For the training data, we use a placeholder that will be fed\n",
    "    # at run time with a training minibatch.\n",
    "    tf_train_dataset = tf.placeholder(tf.float32, shape=(batch_size, embedding_size))\n",
    "    tf_train_labels = tf.placeholder(tf.float32, shape=(batch_size, num_labels))\n",
    "    tf_valid_dataset = tf.constant(valid_dataset)\n",
    "    tf_test_dataset = tf.constant(test_dataset)\n",
    "\n",
    "    # Variables.\n",
    "    weights_1 = tf.Variable(tf.truncated_normal([embedding_size, num_nodes]))\n",
    "    biases_1 = tf.Variable(tf.zeros([num_nodes]))\n",
    "    weights_2 = tf.Variable(tf.truncated_normal([num_nodes, num_labels]))\n",
    "    biases_2 = tf.Variable(tf.zeros([num_labels]))\n",
    "\n",
    "    # Training computation.\n",
    "    logits_1 = tf.matmul(tf_train_dataset, weights_1) + biases_1\n",
    "    relu_layer= tf.nn.relu(logits_1)\n",
    "    logits_2 = tf.matmul(relu_layer, weights_2) + biases_2\n",
    "    loss = tf.reduce_mean(tf.nn.softmax_cross_entropy_with_logits(labels=tf_train_labels, logits=logits_2))\n",
    "\n",
    "    # Optimizer.\n",
    "    optimizer = tf.train.GradientDescentOptimizer(0.5).minimize(loss)\n",
    "\n",
    "    # Predictions for the training\n",
    "    train_prediction = tf.nn.softmax(logits_2)\n",
    "    \n",
    "    # Predictions for validation \n",
    "    logits_1 = tf.matmul(tf_valid_dataset, weights_1) + biases_1\n",
    "    relu_layer= tf.nn.relu(logits_1)\n",
    "    logits_2 = tf.matmul(relu_layer, weights_2) + biases_2\n",
    "    \n",
    "    valid_prediction = tf.nn.softmax(logits_2)\n",
    "    \n",
    "    # Predictions for test\n",
    "    logits_1 = tf.matmul(tf_test_dataset, weights_1) + biases_1\n",
    "    relu_layer= tf.nn.relu(logits_1)\n",
    "    logits_2 = tf.matmul(relu_layer, weights_2) + biases_2\n",
    "    \n",
    "    test_prediction = tf.nn.softmax(logits_2)"
   ]
  },
  {
   "cell_type": "code",
   "execution_count": 142,
   "metadata": {},
   "outputs": [
    {
     "name": "stdout",
     "output_type": "stream",
     "text": [
      "Initialized\n",
      "Minibatch loss at step 0: 1.6092209815979004\n",
      "Minibatch accuracy: 86.7%\n",
      "Validation accuracy: 20.0%\n",
      "Minibatch loss at step 500: 0.8494643568992615\n",
      "Minibatch accuracy: 100.0%\n",
      "Validation accuracy: 20.0%\n",
      "Minibatch loss at step 1000: 0.3035784661769867\n",
      "Minibatch accuracy: 100.0%\n",
      "Validation accuracy: 20.0%\n",
      "Minibatch loss at step 1500: 0.28874245285987854\n",
      "Minibatch accuracy: 100.0%\n",
      "Validation accuracy: 20.0%\n",
      "Minibatch loss at step 2000: 0.1566796749830246\n",
      "Minibatch accuracy: 100.0%\n",
      "Validation accuracy: 20.0%\n",
      "Minibatch loss at step 2500: 0.11684799939393997\n",
      "Minibatch accuracy: 100.0%\n",
      "Validation accuracy: 20.0%\n",
      "Minibatch loss at step 3000: 0.08830983191728592\n",
      "Minibatch accuracy: 100.0%\n",
      "Validation accuracy: 20.0%\n",
      "Minibatch loss at step 3500: 0.0707460269331932\n",
      "Minibatch accuracy: 100.0%\n",
      "Validation accuracy: 20.0%\n",
      "Minibatch loss at step 4000: 0.05901327729225159\n",
      "Minibatch accuracy: 100.0%\n",
      "Validation accuracy: 20.0%\n",
      "Minibatch loss at step 4500: 0.05064419284462929\n",
      "Minibatch accuracy: 100.0%\n",
      "Validation accuracy: 20.0%\n",
      "Minibatch loss at step 5000: 0.045521050691604614\n",
      "Minibatch accuracy: 100.0%\n",
      "Validation accuracy: 20.0%\n",
      "Minibatch loss at step 5500: 0.040506161749362946\n",
      "Minibatch accuracy: 100.0%\n",
      "Validation accuracy: 20.0%\n",
      "Minibatch loss at step 6000: 0.03638361394405365\n",
      "Minibatch accuracy: 100.0%\n",
      "Validation accuracy: 20.0%\n",
      "Minibatch loss at step 6500: 0.03302823007106781\n",
      "Minibatch accuracy: 100.0%\n",
      "Validation accuracy: 20.0%\n",
      "Minibatch loss at step 7000: 0.030252037569880486\n",
      "Minibatch accuracy: 100.0%\n",
      "Validation accuracy: 20.0%\n",
      "Minibatch loss at step 7500: 0.02832333743572235\n",
      "Minibatch accuracy: 100.0%\n",
      "Validation accuracy: 20.0%\n",
      "Minibatch loss at step 8000: 0.026337381452322006\n",
      "Minibatch accuracy: 100.0%\n",
      "Validation accuracy: 20.0%\n",
      "Minibatch loss at step 8500: 0.02454034611582756\n",
      "Minibatch accuracy: 100.0%\n",
      "Validation accuracy: 20.0%\n",
      "Minibatch loss at step 9000: 0.022975321859121323\n",
      "Minibatch accuracy: 100.0%\n",
      "Validation accuracy: 20.0%\n",
      "Minibatch loss at step 9500: 0.02160489745438099\n",
      "Minibatch accuracy: 100.0%\n",
      "Validation accuracy: 20.0%\n",
      "Minibatch loss at step 10000: 0.020590247586369514\n",
      "Minibatch accuracy: 100.0%\n",
      "Validation accuracy: 20.0%\n",
      "Test accuracy: 20.0%\n"
     ]
    }
   ],
   "source": [
    "num_steps = 10001\n",
    "\n",
    "def accuracy(predictions, labels):\n",
    "    return (100.0 * np.sum(np.argmax(predictions, 1) == np.argmax(labels, 1))\n",
    "          / predictions.shape[0])\n",
    "\n",
    "with tf.Session(graph=graph) as session:\n",
    "    tf.global_variables_initializer().run()\n",
    "    print(\"Initialized\")\n",
    "    for step in range(num_steps):\n",
    "        # Pick an offset within the training data, which has been randomized.\n",
    "        # Note: we could use better randomization across epochs.\n",
    "        offset = (step * batch_size) % (train_labels.shape[0] - batch_size)\n",
    "        # Generate a minibatch.\n",
    "        batch_data = train_dataset[offset:(offset + batch_size), :]\n",
    "        batch_labels = train_labels[offset:(offset + batch_size), :]\n",
    "        # Prepare a dictionary telling the session where to feed the minibatch.\n",
    "        # The key of the dictionary is the placeholder node of the graph to be fed,\n",
    "        # and the value is the numpy array to feed to it.\n",
    "        feed_dict = {tf_train_dataset : batch_data, tf_train_labels : batch_labels}\n",
    "        _, l, predictions = session.run([optimizer, loss, train_prediction], feed_dict=feed_dict)\n",
    "        if (step % 500 == 0):\n",
    "            print(\"Minibatch loss at step {}: {}\".format(step, l))\n",
    "            print(\"Minibatch accuracy: {:.1f}%\".format(accuracy(predictions, batch_labels)))\n",
    "            print(\"Validation accuracy: {:.1f}%\".format(accuracy(valid_prediction.eval(), valid_labels)))\n",
    "    print(\"Test accuracy: {:.1f}%\".format(accuracy(test_prediction.eval(), test_labels)))"
   ]
  },
  {
   "cell_type": "code",
   "execution_count": null,
   "metadata": {},
   "outputs": [],
   "source": []
  }
 ],
 "metadata": {
  "kernelspec": {
   "display_name": "Python 3",
   "language": "python",
   "name": "python3"
  },
  "language_info": {
   "codemirror_mode": {
    "name": "ipython",
    "version": 3
   },
   "file_extension": ".py",
   "mimetype": "text/x-python",
   "name": "python",
   "nbconvert_exporter": "python",
   "pygments_lexer": "ipython3",
   "version": "3.7.1"
  }
 },
 "nbformat": 4,
 "nbformat_minor": 2
}

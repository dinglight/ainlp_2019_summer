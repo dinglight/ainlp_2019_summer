{
 "cells": [
  {
   "cell_type": "markdown",
   "metadata": {},
   "source": [
    "# Using word2vec + fully connected neural networks to finish “⾖豆瓣评论” classification"
   ]
  },
  {
   "cell_type": "markdown",
   "metadata": {},
   "source": [
    "## 1. 加载数据"
   ]
  },
  {
   "cell_type": "code",
   "execution_count": 1,
   "metadata": {},
   "outputs": [
    {
     "name": "stderr",
     "output_type": "stream",
     "text": [
      "D:\\Program\\Anaconda3\\lib\\site-packages\\IPython\\core\\interactiveshell.py:3020: DtypeWarning: Columns (0,4) have mixed types. Specify dtype option on import or set low_memory=False.\n",
      "  interactivity=interactivity, compiler=compiler, result=result)\n"
     ]
    },
    {
     "data": {
      "text/html": [
       "<div>\n",
       "<style scoped>\n",
       "    .dataframe tbody tr th:only-of-type {\n",
       "        vertical-align: middle;\n",
       "    }\n",
       "\n",
       "    .dataframe tbody tr th {\n",
       "        vertical-align: top;\n",
       "    }\n",
       "\n",
       "    .dataframe thead th {\n",
       "        text-align: right;\n",
       "    }\n",
       "</style>\n",
       "<table border=\"1\" class=\"dataframe\">\n",
       "  <thead>\n",
       "    <tr style=\"text-align: right;\">\n",
       "      <th></th>\n",
       "      <th>id</th>\n",
       "      <th>link</th>\n",
       "      <th>name</th>\n",
       "      <th>comment</th>\n",
       "      <th>star</th>\n",
       "    </tr>\n",
       "  </thead>\n",
       "  <tbody>\n",
       "    <tr>\n",
       "      <th>0</th>\n",
       "      <td>1</td>\n",
       "      <td>https://movie.douban.com/subject/26363254/</td>\n",
       "      <td>战狼2</td>\n",
       "      <td>吴京意淫到了脑残的地步，看了恶心想吐</td>\n",
       "      <td>1</td>\n",
       "    </tr>\n",
       "    <tr>\n",
       "      <th>1</th>\n",
       "      <td>2</td>\n",
       "      <td>https://movie.douban.com/subject/26363254/</td>\n",
       "      <td>战狼2</td>\n",
       "      <td>首映礼看的。太恐怖了这个电影，不讲道理的，完全就是吴京在实现他这个小粉红的英雄梦。各种装备轮...</td>\n",
       "      <td>2</td>\n",
       "    </tr>\n",
       "    <tr>\n",
       "      <th>2</th>\n",
       "      <td>3</td>\n",
       "      <td>https://movie.douban.com/subject/26363254/</td>\n",
       "      <td>战狼2</td>\n",
       "      <td>吴京的炒作水平不输冯小刚，但小刚至少不会用主旋律来炒作…吴京让人看了不舒服，为了主旋律而主旋...</td>\n",
       "      <td>2</td>\n",
       "    </tr>\n",
       "    <tr>\n",
       "      <th>3</th>\n",
       "      <td>4</td>\n",
       "      <td>https://movie.douban.com/subject/26363254/</td>\n",
       "      <td>战狼2</td>\n",
       "      <td>凭良心说，好看到不像《战狼1》的续集，完虐《湄公河行动》。</td>\n",
       "      <td>4</td>\n",
       "    </tr>\n",
       "    <tr>\n",
       "      <th>4</th>\n",
       "      <td>5</td>\n",
       "      <td>https://movie.douban.com/subject/26363254/</td>\n",
       "      <td>战狼2</td>\n",
       "      <td>中二得很</td>\n",
       "      <td>1</td>\n",
       "    </tr>\n",
       "  </tbody>\n",
       "</table>\n",
       "</div>"
      ],
      "text/plain": [
       "  id                                        link name  \\\n",
       "0  1  https://movie.douban.com/subject/26363254/  战狼2   \n",
       "1  2  https://movie.douban.com/subject/26363254/  战狼2   \n",
       "2  3  https://movie.douban.com/subject/26363254/  战狼2   \n",
       "3  4  https://movie.douban.com/subject/26363254/  战狼2   \n",
       "4  5  https://movie.douban.com/subject/26363254/  战狼2   \n",
       "\n",
       "                                             comment star  \n",
       "0                                 吴京意淫到了脑残的地步，看了恶心想吐    1  \n",
       "1  首映礼看的。太恐怖了这个电影，不讲道理的，完全就是吴京在实现他这个小粉红的英雄梦。各种装备轮...    2  \n",
       "2  吴京的炒作水平不输冯小刚，但小刚至少不会用主旋律来炒作…吴京让人看了不舒服，为了主旋律而主旋...    2  \n",
       "3                      凭良心说，好看到不像《战狼1》的续集，完虐《湄公河行动》。    4  \n",
       "4                                               中二得很    1  "
      ]
     },
     "execution_count": 1,
     "metadata": {},
     "output_type": "execute_result"
    }
   ],
   "source": [
    "import pandas as pd\n",
    "fname = 'movie_comments.csv'\n",
    "df = pd.read_csv(fname, encoding='utf8')\n",
    "\n",
    "df.head()"
   ]
  },
  {
   "cell_type": "code",
   "execution_count": 2,
   "metadata": {},
   "outputs": [
    {
     "data": {
      "text/plain": [
       "(261497, 5)"
      ]
     },
     "execution_count": 2,
     "metadata": {},
     "output_type": "execute_result"
    }
   ],
   "source": [
    "df.shape"
   ]
  },
  {
   "cell_type": "markdown",
   "metadata": {},
   "source": [
    "## 2. 数据预处理"
   ]
  },
  {
   "cell_type": "markdown",
   "metadata": {},
   "source": [
    "### 2.1检查评分数据"
   ]
  },
  {
   "cell_type": "code",
   "execution_count": 3,
   "metadata": {},
   "outputs": [],
   "source": [
    "import seaborn as sns\n",
    "import matplotlib.pyplot as plt\n",
    "%matplotlib inline\n",
    "\n",
    "def plot_star_count(count_star):\n",
    "    plt.figure(figsize=(12,4))\n",
    "    sns.barplot(count_star.index, count_star.values, alpha=0.8)\n",
    "    plt.ylabel('Number of Occurrences', fontsize=12)\n",
    "    plt.xlabel('Star', fontsize=12)\n",
    "    plt.xticks(rotation=90)\n",
    "    plt.show()"
   ]
  },
  {
   "cell_type": "code",
   "execution_count": 4,
   "metadata": {},
   "outputs": [
    {
     "data": {
      "image/png": "[encoded data removed]",
      "text/plain": [
       "<Figure size 864x288 with 1 Axes>"
      ]
     },
     "metadata": {
      "needs_background": "light"
     },
     "output_type": "display_data"
    }
   ],
   "source": [
    "plot_star_count(df['star'].value_counts())"
   ]
  },
  {
   "cell_type": "markdown",
   "metadata": {},
   "source": [
    "### 2.2 整理评分数据"
   ]
  },
  {
   "cell_type": "code",
   "execution_count": 5,
   "metadata": {},
   "outputs": [],
   "source": [
    "num_str_list = ['0', '1', '2', '3', '4', '5']\n",
    "for i in range(len(num_str_list)):\n",
    "    df.loc[df['star'] == num_str_list[i], 'star'] = i"
   ]
  },
  {
   "cell_type": "code",
   "execution_count": 6,
   "metadata": {},
   "outputs": [
    {
     "data": {
      "image/png": "[encoded data removed]",
      "text/plain": [
       "<Figure size 864x288 with 1 Axes>"
      ]
     },
     "metadata": {
      "needs_background": "light"
     },
     "output_type": "display_data"
    }
   ],
   "source": [
    "plot_star_count(df['star'].value_counts())"
   ]
  },
  {
   "cell_type": "markdown",
   "metadata": {},
   "source": [
    "### 2.3 删除comment为空的数据"
   ]
  },
  {
   "cell_type": "code",
   "execution_count": 7,
   "metadata": {},
   "outputs": [
    {
     "data": {
      "text/plain": [
       "(261495, 5)"
      ]
     },
     "execution_count": 7,
     "metadata": {},
     "output_type": "execute_result"
    }
   ],
   "source": [
    "df = df[pd.notnull(df['comment'])]\n",
    "df.shape"
   ]
  },
  {
   "cell_type": "markdown",
   "metadata": {},
   "source": [
    "### 2.4 使用jieba对comment分词生成word_tokens"
   ]
  },
  {
   "cell_type": "code",
   "execution_count": 8,
   "metadata": {},
   "outputs": [],
   "source": [
    "import re\n",
    "import jieba\n",
    "\n",
    "def comment_to_word_tokens(comment):\n",
    "    if not isinstance(comment,str):\n",
    "        print(comment)\n",
    "        return\n",
    "    \n",
    "    #print(type(comment))\n",
    "    pattern = re.compile('[\\u4E00-\\u9FA5]')\n",
    "    only_chinese = pattern.findall(comment)\n",
    "    chinese_comment = ''.join(only_chinese)\n",
    "    chinese_tokens = jieba.cut(chinese_comment)\n",
    "    word_tokens = ' '.join(chinese_tokens)\n",
    "    if word_tokens == '':\n",
    "        return None\n",
    "    return word_tokens"
   ]
  },
  {
   "cell_type": "code",
   "execution_count": 9,
   "metadata": {},
   "outputs": [
    {
     "name": "stderr",
     "output_type": "stream",
     "text": [
      "Building prefix dict from the default dictionary ...\n",
      "Loading model from cache C:\\Users\\DINGLI~1\\AppData\\Local\\Temp\\jieba.cache\n",
      "Loading model cost 1.175 seconds.\n",
      "Prefix dict has been built succesfully.\n"
     ]
    }
   ],
   "source": [
    "df['word_tokens'] = df['comment'].apply(comment_to_word_tokens)"
   ]
  },
  {
   "cell_type": "markdown",
   "metadata": {},
   "source": [
    "### 2.5 删除word_tokens 为空的数据"
   ]
  },
  {
   "cell_type": "code",
   "execution_count": 10,
   "metadata": {},
   "outputs": [
    {
     "data": {
      "text/plain": [
       "(253336, 6)"
      ]
     },
     "execution_count": 10,
     "metadata": {},
     "output_type": "execute_result"
    }
   ],
   "source": [
    "df = df[pd.notnull(df['word_tokens'])]\n",
    "df.shape"
   ]
  },
  {
   "cell_type": "markdown",
   "metadata": {},
   "source": [
    "### 2.6 重建索引"
   ]
  },
  {
   "cell_type": "code",
   "execution_count": 11,
   "metadata": {},
   "outputs": [],
   "source": [
    "df.index = range(253336)"
   ]
  },
  {
   "cell_type": "markdown",
   "metadata": {},
   "source": [
    "## 3. 从词向量到句向量"
   ]
  },
  {
   "cell_type": "markdown",
   "metadata": {},
   "source": [
    "### 3.1 加载训练好的word2vec 模型"
   ]
  },
  {
   "cell_type": "code",
   "execution_count": 12,
   "metadata": {},
   "outputs": [],
   "source": [
    "from gensim.models import Word2Vec\n",
    "zh_wiki_word2vec_model = Word2Vec.load('../lesson04/cbow_word2vec.model')"
   ]
  },
  {
   "cell_type": "code",
   "execution_count": 13,
   "metadata": {},
   "outputs": [
    {
     "data": {
      "text/plain": [
       "200"
      ]
     },
     "execution_count": 13,
     "metadata": {},
     "output_type": "execute_result"
    }
   ],
   "source": [
    "zh_wiki_word2vec_model.vector_size"
   ]
  },
  {
   "cell_type": "markdown",
   "metadata": {},
   "source": [
    " ### 3.2 sentence embedding\n",
    " \n",
    " A Simple but Tough-to-Beat Baseline for Sentence Embeddings\n",
    " ref： https://github.com/PrincetonML/SIF"
   ]
  },
  {
   "cell_type": "code",
   "execution_count": 14,
   "metadata": {},
   "outputs": [],
   "source": [
    "def get_word_frequency(word, model):\n",
    "    try:\n",
    "        freq = model.wv.vocab[word].count\n",
    "    except KeyError:\n",
    "        freq = 1.0\n",
    "    return freq"
   ]
  },
  {
   "cell_type": "code",
   "execution_count": 15,
   "metadata": {},
   "outputs": [
    {
     "data": {
      "text/plain": [
       "42"
      ]
     },
     "execution_count": 15,
     "metadata": {},
     "output_type": "execute_result"
    }
   ],
   "source": [
    "get_word_frequency('意淫', zh_wiki_word2vec_model)"
   ]
  },
  {
   "cell_type": "code",
   "execution_count": 16,
   "metadata": {},
   "outputs": [],
   "source": [
    "def get_word_vector(word, model):\n",
    "    try:\n",
    "        vec = model[word]\n",
    "    except KeyError:\n",
    "        vec = np.zeros(model.vector_size)\n",
    "    return vec"
   ]
  },
  {
   "cell_type": "code",
   "execution_count": 17,
   "metadata": {},
   "outputs": [
    {
     "name": "stderr",
     "output_type": "stream",
     "text": [
      "D:\\Program\\Anaconda3\\lib\\site-packages\\ipykernel_launcher.py:3: DeprecationWarning: Call to deprecated `__getitem__` (Method will be removed in 4.0.0, use self.wv.__getitem__() instead).\n",
      "  This is separate from the ipykernel package so we can avoid doing imports until\n"
     ]
    },
    {
     "data": {
      "text/plain": [
       "array([ 0.03759095,  0.14011024, -0.14572217,  0.09998303, -0.1325608 ,\n",
       "        0.13823599,  0.02620292, -0.05573776, -0.1890038 , -0.06985801,\n",
       "       -0.05942971, -0.3292785 ,  0.23069695, -0.22926018, -0.16528179,\n",
       "        0.1358727 , -0.06119157,  0.01192596, -0.06293081,  0.04087941,\n",
       "        0.21568522,  0.19258645,  0.03519976, -0.09244327, -0.05315572,\n",
       "        0.0529089 , -0.29343638,  0.38297474, -0.22256729, -0.1591071 ,\n",
       "        0.08015891, -0.21215478,  0.52001214,  0.07766414,  0.20066425,\n",
       "        0.03186455,  0.16847794, -0.09533515, -0.32239896, -0.02837139,\n",
       "        0.19097376, -0.00917382,  0.08205621,  0.06451167, -0.2010075 ,\n",
       "       -0.3093962 , -0.05179121, -0.0081041 , -0.23190635,  0.24018332,\n",
       "       -0.28461334,  0.31516486, -0.03313563,  0.13341811, -0.3280544 ,\n",
       "        0.02335869, -0.01769484,  0.03408337, -0.19580963, -0.00157211,\n",
       "        0.3294343 ,  0.13990225, -0.00827079,  0.2526084 , -0.06284872,\n",
       "       -0.1058908 ,  0.2987361 ,  0.2231161 ,  0.12316982,  0.22413193,\n",
       "       -0.36370036,  0.08732338, -0.23703678, -0.06474775,  0.26110932,\n",
       "       -0.00079067,  0.0401342 , -0.1915759 ,  0.11613   ,  0.02476603,\n",
       "       -0.16952884,  0.02736068, -0.03917252,  0.09996611,  0.06604555,\n",
       "       -0.08238267,  0.02448249, -0.10253282, -0.31357163,  0.05315407,\n",
       "        0.08790748, -0.04022826,  0.20012373, -0.13976648, -0.02132825,\n",
       "        0.02367796,  0.22774372,  0.012463  , -0.1179132 , -0.01287279,\n",
       "       -0.0761864 ,  0.06118829,  0.04245294,  0.02662358,  0.03504605,\n",
       "       -0.21211357, -0.07288476,  0.00697376,  0.22429225,  0.2132513 ,\n",
       "        0.32992646, -0.08190627, -0.0580986 ,  0.00876952, -0.11673171,\n",
       "        0.05795407, -0.31467986,  0.15796845,  0.13895567, -0.24250014,\n",
       "        0.09642978,  0.16727702, -0.2572771 ,  0.02893245,  0.0559071 ,\n",
       "        0.00521197,  0.1252164 , -0.0475292 , -0.21749334, -0.27013037,\n",
       "       -0.14938594,  0.13728777, -0.23416597,  0.17012787, -0.08623917,\n",
       "       -0.11051226,  0.16037849,  0.21293193, -0.14532483, -0.17934506,\n",
       "        0.16246858,  0.21066326,  0.06090127,  0.05336531,  0.03519521,\n",
       "       -0.24489476,  0.00548508, -0.29814377,  0.14301328, -0.05579132,\n",
       "        0.21147731, -0.04173825,  0.10183975, -0.10801607, -0.01823279,\n",
       "        0.08944193, -0.07711257, -0.33497027,  0.17633986,  0.20414288,\n",
       "       -0.26279333, -0.14765482,  0.00269063, -0.10118116,  0.03272448,\n",
       "        0.00983575,  0.18440275,  0.21738793,  0.19387452, -0.07635141,\n",
       "        0.1335492 ,  0.18016225,  0.24090122,  0.09258055, -0.05585238,\n",
       "        0.10612902,  0.48884693,  0.19328068,  0.0417974 ,  0.01944357,\n",
       "        0.34162503,  0.01586535,  0.15893199,  0.13458455,  0.00310293,\n",
       "       -0.17660615,  0.06904576,  0.31049046,  0.16513026, -0.30879518,\n",
       "       -0.1408157 ,  0.33584577, -0.05857313, -0.0887534 , -0.11072434,\n",
       "       -0.00394968,  0.3580909 , -0.08498844, -0.03655495,  0.06147752],\n",
       "      dtype=float32)"
      ]
     },
     "execution_count": 17,
     "metadata": {},
     "output_type": "execute_result"
    }
   ],
   "source": [
    "get_word_vector('意淫', zh_wiki_word2vec_model)"
   ]
  },
  {
   "cell_type": "code",
   "execution_count": 18,
   "metadata": {},
   "outputs": [],
   "source": [
    "import numpy as np"
   ]
  },
  {
   "cell_type": "code",
   "execution_count": 19,
   "metadata": {},
   "outputs": [],
   "source": [
    "def get_sentence_set(sentence_list, word2vec_model, a=1e-3):\n",
    "    embedding_size = word2vec_model.vector_size\n",
    "    sentence_set = []\n",
    "    debug_count = 0\n",
    "    for sentence in sentence_list:\n",
    "        vs = np.zeros(embedding_size, dtype=np.float32)  # add all word2vec values into one vector for the sentence\n",
    "        word_tokens = sentence.split()\n",
    "        sentence_length = len(word_tokens)\n",
    "        if sentence_length == 0:\n",
    "            print(debug_count, )\n",
    "        for word in word_tokens:\n",
    "            a_value = a / (a + get_word_frequency(word, word2vec_model))  # smooth inverse frequency, SIF\n",
    "            vs = np.add(vs, np.multiply(a_value, get_word_vector(word, word2vec_model)))  # vs += sif * word_vector\n",
    "\n",
    "        vs = np.divide(vs, sentence_length)  # weighted average\n",
    "        sentence_set.append(vs)  # add to our existing re-calculated set of sentences\n",
    "        debug_count+=1\n",
    "    return sentence_set"
   ]
  },
  {
   "cell_type": "code",
   "execution_count": 20,
   "metadata": {},
   "outputs": [
    {
     "name": "stderr",
     "output_type": "stream",
     "text": [
      "D:\\Program\\Anaconda3\\lib\\site-packages\\ipykernel_launcher.py:3: DeprecationWarning: Call to deprecated `__getitem__` (Method will be removed in 4.0.0, use self.wv.__getitem__() instead).\n",
      "  This is separate from the ipykernel package so we can avoid doing imports until\n"
     ]
    }
   ],
   "source": [
    "sentence_set = get_sentence_set(df['word_tokens'], zh_wiki_word2vec_model)"
   ]
  },
  {
   "cell_type": "code",
   "execution_count": 21,
   "metadata": {},
   "outputs": [
    {
     "data": {
      "text/plain": [
       "dtype('float32')"
      ]
     },
     "execution_count": 21,
     "metadata": {},
     "output_type": "execute_result"
    }
   ],
   "source": [
    "sentence_set[0].dtype"
   ]
  },
  {
   "cell_type": "code",
   "execution_count": 22,
   "metadata": {},
   "outputs": [],
   "source": [
    "from sklearn.decomposition import PCA"
   ]
  },
  {
   "cell_type": "code",
   "execution_count": 23,
   "metadata": {},
   "outputs": [],
   "source": [
    "def sentence_to_vec(sentence_set, embedding_size):\n",
    "    # calculate PCA of this sentence set\n",
    "    pca = PCA(n_components=embedding_size)\n",
    "    pca.fit(np.array(sentence_set))\n",
    "    u = pca.components_[0]  # the PCA vector\n",
    "    u = np.multiply(u, np.transpose(u))  # u x uT\n",
    "\n",
    "    # pad the vector?  (occurs if we have less sentences than embeddings_size)\n",
    "    if len(u) < embedding_size:\n",
    "        for i in range(embedding_size - len(u)):\n",
    "            u = np.append(u, 0)  # add needed extension for multiplication below\n",
    "\n",
    "    # resulting sentence vectors, vs = vs -u x uT x vs\n",
    "    sentence_vecs = []\n",
    "    for vs in sentence_set:\n",
    "        sub = np.multiply(u, vs)\n",
    "        sentence_vecs.append(np.subtract(vs, sub).astype(np.float32))\n",
    "\n",
    "    return sentence_vecs"
   ]
  },
  {
   "cell_type": "code",
   "execution_count": 24,
   "metadata": {},
   "outputs": [],
   "source": [
    "sentence_vectors = sentence_to_vec(sentence_set, zh_wiki_word2vec_model.vector_size)"
   ]
  },
  {
   "cell_type": "code",
   "execution_count": 25,
   "metadata": {},
   "outputs": [
    {
     "data": {
      "text/plain": [
       "list"
      ]
     },
     "execution_count": 25,
     "metadata": {},
     "output_type": "execute_result"
    }
   ],
   "source": [
    "type(sentence_vectors)"
   ]
  },
  {
   "cell_type": "code",
   "execution_count": 26,
   "metadata": {},
   "outputs": [
    {
     "data": {
      "text/plain": [
       "dtype('float32')"
      ]
     },
     "execution_count": 26,
     "metadata": {},
     "output_type": "execute_result"
    }
   ],
   "source": [
    "sentence_vectors[0].dtype"
   ]
  },
  {
   "cell_type": "code",
   "execution_count": 27,
   "metadata": {},
   "outputs": [],
   "source": [
    "X = np.array(sentence_vectors)"
   ]
  },
  {
   "cell_type": "code",
   "execution_count": 28,
   "metadata": {},
   "outputs": [
    {
     "data": {
      "text/plain": [
       "dtype('float32')"
      ]
     },
     "execution_count": 28,
     "metadata": {},
     "output_type": "execute_result"
    }
   ],
   "source": [
    "X[0].dtype"
   ]
  },
  {
   "cell_type": "code",
   "execution_count": 29,
   "metadata": {},
   "outputs": [],
   "source": [
    "y = df['star'].values"
   ]
  },
  {
   "cell_type": "code",
   "execution_count": 30,
   "metadata": {},
   "outputs": [
    {
     "data": {
      "text/plain": [
       "numpy.ndarray"
      ]
     },
     "execution_count": 30,
     "metadata": {},
     "output_type": "execute_result"
    }
   ],
   "source": [
    "type(y)"
   ]
  },
  {
   "cell_type": "markdown",
   "metadata": {},
   "source": [
    "##  4.Train neaual network model"
   ]
  },
  {
   "cell_type": "markdown",
   "metadata": {},
   "source": [
    "## 4.1 按比例70 15 15 划分训练集，验证集，测试集"
   ]
  },
  {
   "cell_type": "code",
   "execution_count": 31,
   "metadata": {},
   "outputs": [],
   "source": [
    "from sklearn.model_selection import train_test_split\n",
    "\n",
    "X_train, X_test_validation, y_train, y_test_validation = train_test_split(X, y, test_size=0.30, random_state=42)\n",
    "X_test, X_validation, y_test, y_validation = train_test_split(X_test_validation, y_test_validation, test_size=0.5, random_state=42)"
   ]
  },
  {
   "cell_type": "markdown",
   "metadata": {},
   "source": [
    "### 4.2 构建tf graph"
   ]
  },
  {
   "cell_type": "code",
   "execution_count": 32,
   "metadata": {},
   "outputs": [
    {
     "name": "stdout",
     "output_type": "stream",
     "text": [
      "Training set (177335, 200) (177335,)\n",
      "Validation set (38001, 200) (38001,)\n",
      "Test set (38000, 200) (38000,)\n"
     ]
    }
   ],
   "source": [
    "train_dataset = X_train\n",
    "valid_dataset = X_validation\n",
    "test_dataset = X_test\n",
    "train_labels = y_train\n",
    "valid_labels = y_validation\n",
    "test_labels = y_test\n",
    "\n",
    "print('Training set', train_dataset.shape, train_labels.shape)\n",
    "print('Validation set', valid_dataset.shape, valid_labels.shape)\n",
    "print('Test set', test_dataset.shape, test_labels.shape)"
   ]
  },
  {
   "cell_type": "code",
   "execution_count": 33,
   "metadata": {},
   "outputs": [
    {
     "data": {
      "text/plain": [
       "5"
      ]
     },
     "execution_count": 33,
     "metadata": {},
     "output_type": "execute_result"
    }
   ],
   "source": [
    "train_labels[0]"
   ]
  },
  {
   "cell_type": "code",
   "execution_count": 34,
   "metadata": {},
   "outputs": [
    {
     "data": {
      "text/plain": [
       "array([-1.47236214e-08, -1.06214600e-07, -4.90012475e-08,  8.31661637e-08,\n",
       "       -3.91347861e-08,  1.24595744e-07, -4.05309031e-08, -1.20829098e-08,\n",
       "       -1.02605014e-07, -1.01182117e-07, -1.06042911e-07, -8.58911431e-09,\n",
       "        2.37653186e-08, -7.98649964e-08,  1.26428601e-08, -5.93629501e-08,\n",
       "        1.56406021e-09,  5.12848572e-08, -1.30821874e-07,  3.93744806e-08,\n",
       "       -5.47622792e-09, -7.06731740e-09, -3.61116470e-08,  5.53322970e-08,\n",
       "       -6.52493739e-08,  1.46025574e-08, -8.93369112e-09,  8.60639702e-08,\n",
       "        7.26041733e-08, -5.51157875e-08,  5.39559544e-08, -1.02661105e-07,\n",
       "        1.04828388e-07, -7.12494241e-08, -1.71503316e-07,  1.62460509e-07,\n",
       "        6.13562534e-08,  8.12724537e-08,  9.95911265e-08,  6.26399199e-08,\n",
       "       -3.33785302e-08,  2.71472378e-09, -3.84677179e-08,  2.04678940e-08,\n",
       "       -1.34561811e-08, -6.58265975e-08, -9.87888313e-08, -1.33530254e-08,\n",
       "        9.14442282e-08, -1.37258809e-07,  1.43942771e-07,  3.63106665e-08,\n",
       "       -8.95071572e-09,  1.21442497e-07,  1.06646725e-09,  7.82399923e-09,\n",
       "        4.77938968e-08,  4.90460188e-08, -6.60072601e-08, -2.63700102e-08,\n",
       "       -2.79330301e-08,  3.73345870e-08, -1.15236780e-07,  7.99147131e-08,\n",
       "        1.34024788e-07, -2.39862050e-08,  3.08424859e-08,  1.13623450e-07,\n",
       "        1.00516225e-07,  3.38327126e-08, -5.73544661e-08, -1.18794521e-08,\n",
       "        1.42905435e-07,  8.04002269e-08,  6.62100916e-08,  9.41029228e-08,\n",
       "       -6.69960869e-08, -8.12311427e-08, -1.67460339e-08,  1.19601665e-07,\n",
       "       -8.18689898e-08, -4.31130189e-08, -2.25321841e-08, -1.52829820e-08,\n",
       "        8.96935788e-08, -1.49900110e-08, -8.22193797e-08,  3.75328302e-09,\n",
       "        4.22746460e-08, -1.01817662e-07,  1.74020460e-08, -1.53412856e-08,\n",
       "        1.41593626e-08, -8.24707129e-08, -2.08546886e-08, -1.16360589e-07,\n",
       "       -1.15212650e-07,  5.29583275e-08,  1.38200178e-07, -1.17269586e-07,\n",
       "       -4.56227234e-09,  2.02258661e-07, -2.02601473e-08, -2.40950992e-08,\n",
       "        8.97210555e-08, -3.42018929e-08,  6.46055298e-08,  5.89236251e-08,\n",
       "        2.14976321e-08,  9.86171074e-08,  1.39815896e-07, -4.34337046e-08,\n",
       "       -9.71157448e-08, -3.82740524e-08,  6.38538182e-08, -8.07195288e-09,\n",
       "        5.66070568e-08,  1.82810673e-08, -1.83180155e-08, -6.30602912e-08,\n",
       "        1.34240059e-08,  1.09311685e-07,  6.98184763e-08,  5.63632119e-09,\n",
       "        4.57418281e-08,  6.90321187e-08, -9.77133929e-10,  5.94085456e-08,\n",
       "       -1.09466107e-07, -1.96425614e-08, -1.76151801e-07, -3.66619339e-08,\n",
       "       -9.97970204e-08, -3.80118799e-08,  4.87706409e-08,  1.27873161e-08,\n",
       "        4.15729176e-08,  4.71058259e-09,  7.07590715e-08, -5.01178974e-08,\n",
       "       -5.04725826e-08,  2.58303867e-08, -6.43442633e-08,  7.76658027e-08,\n",
       "       -8.76471731e-08, -5.38324052e-09, -9.47460688e-09, -4.72086938e-08,\n",
       "        5.02420932e-08, -5.14982013e-08,  1.57906442e-07,  4.01272651e-08,\n",
       "        1.31619245e-07, -1.51934714e-07, -4.19204120e-08,  7.67607578e-09,\n",
       "        6.08456006e-08,  6.37652420e-08,  6.18950224e-08,  2.89807289e-08,\n",
       "        1.50794810e-09,  6.48282068e-08,  1.32165965e-07,  1.65886149e-07,\n",
       "       -6.01434849e-08,  6.02815078e-08,  4.69320653e-08, -2.40349252e-08,\n",
       "       -1.64077377e-07,  4.73020698e-08,  1.87902373e-07, -2.06334638e-09,\n",
       "        9.06970854e-09, -6.31237214e-08,  1.01922055e-07,  6.75906691e-08,\n",
       "        3.72531730e-08,  5.22243688e-08, -9.08973519e-08,  2.00250145e-08,\n",
       "        1.66169784e-07,  6.89203503e-08,  2.20390490e-07, -1.05505338e-09,\n",
       "       -5.33062749e-09, -4.22389874e-08,  1.65240493e-07, -1.03350516e-07,\n",
       "        4.90800716e-08, -1.25480000e-07, -8.86252494e-08,  3.88240977e-08,\n",
       "       -1.94477465e-08, -2.98276319e-08,  8.47779091e-08,  2.67791851e-08,\n",
       "        7.78653373e-08,  6.93236624e-09, -5.39524514e-08, -1.41517262e-07],\n",
       "      dtype=float32)"
      ]
     },
     "execution_count": 34,
     "metadata": {},
     "output_type": "execute_result"
    }
   ],
   "source": [
    "train_dataset[0]"
   ]
  },
  {
   "cell_type": "code",
   "execution_count": 35,
   "metadata": {},
   "outputs": [],
   "source": [
    "embedding_size = zh_wiki_word2vec_model.vector_size\n",
    "num_labels = 5"
   ]
  },
  {
   "cell_type": "code",
   "execution_count": 36,
   "metadata": {},
   "outputs": [
    {
     "name": "stdout",
     "output_type": "stream",
     "text": [
      "Training set (177335, 200) (177335, 5)\n",
      "Validation set (38001, 200) (38001, 5)\n",
      "Test set (38000, 200) (38000, 5)\n"
     ]
    }
   ],
   "source": [
    "def reformat(labels):\n",
    "    # Map 0 to [1.0, 0.0, 0.0 ...], 1 to [0.0, 1.0, 0.0 ...]\n",
    "    labels = (np.arange(num_labels) == labels[:,None]).astype(np.float32)\n",
    "    return labels\n",
    "train_labels = reformat(train_labels)\n",
    "valid_labels = reformat(valid_labels)\n",
    "test_labels = reformat(test_labels)\n",
    "print('Training set', train_dataset.shape, train_labels.shape)\n",
    "print('Validation set', valid_dataset.shape, valid_labels.shape)\n",
    "print('Test set', test_dataset.shape, test_labels.shape)"
   ]
  },
  {
   "cell_type": "code",
   "execution_count": 37,
   "metadata": {},
   "outputs": [],
   "source": [
    "import tensorflow as tf"
   ]
  },
  {
   "cell_type": "code",
   "execution_count": 38,
   "metadata": {},
   "outputs": [
    {
     "name": "stdout",
     "output_type": "stream",
     "text": [
      "WARNING:tensorflow:From D:\\Program\\Anaconda3\\lib\\site-packages\\tensorflow\\python\\framework\\op_def_library.py:263: colocate_with (from tensorflow.python.framework.ops) is deprecated and will be removed in a future version.\n",
      "Instructions for updating:\n",
      "Colocations handled automatically by placer.\n",
      "WARNING:tensorflow:From <ipython-input-38-45e255441bb3>:25: softmax_cross_entropy_with_logits (from tensorflow.python.ops.nn_ops) is deprecated and will be removed in a future version.\n",
      "Instructions for updating:\n",
      "\n",
      "Future major versions of TensorFlow will allow gradients to flow\n",
      "into the labels input on backprop by default.\n",
      "\n",
      "See `tf.nn.softmax_cross_entropy_with_logits_v2`.\n",
      "\n"
     ]
    }
   ],
   "source": [
    "\n",
    "num_nodes= 1024\n",
    "batch_size = 128\n",
    "\n",
    "graph = tf.Graph()\n",
    "with graph.as_default():\n",
    "\n",
    "    # Input data. For the training data, we use a placeholder that will be fed\n",
    "    # at run time with a training minibatch.\n",
    "    tf_train_dataset = tf.placeholder(tf.float32, shape=(batch_size, embedding_size))\n",
    "    tf_train_labels = tf.placeholder(tf.float32, shape=(batch_size, num_labels))\n",
    "    tf_valid_dataset = tf.constant(valid_dataset)\n",
    "    tf_test_dataset = tf.constant(test_dataset)\n",
    "\n",
    "    # Variables.\n",
    "    weights_1 = tf.Variable(tf.truncated_normal([embedding_size, num_nodes]))\n",
    "    biases_1 = tf.Variable(tf.zeros([num_nodes]))\n",
    "    weights_2 = tf.Variable(tf.truncated_normal([num_nodes, num_labels]))\n",
    "    biases_2 = tf.Variable(tf.zeros([num_labels]))\n",
    "\n",
    "    # Training computation.\n",
    "    logits_1 = tf.matmul(tf_train_dataset, weights_1) + biases_1\n",
    "    relu_layer= tf.nn.relu(logits_1)\n",
    "    logits_2 = tf.matmul(relu_layer, weights_2) + biases_2\n",
    "    loss = tf.reduce_mean(tf.nn.softmax_cross_entropy_with_logits(labels=tf_train_labels, logits=logits_2))\n",
    "\n",
    "    # Optimizer.\n",
    "    optimizer = tf.train.GradientDescentOptimizer(0.5).minimize(loss)\n",
    "\n",
    "    # Predictions for the training\n",
    "    train_prediction = tf.nn.softmax(logits_2)\n",
    "    \n",
    "    # Predictions for validation \n",
    "    logits_1 = tf.matmul(tf_valid_dataset, weights_1) + biases_1\n",
    "    relu_layer= tf.nn.relu(logits_1)\n",
    "    logits_2 = tf.matmul(relu_layer, weights_2) + biases_2\n",
    "    \n",
    "    valid_prediction = tf.nn.softmax(logits_2)\n",
    "    \n",
    "    # Predictions for test\n",
    "    logits_1 = tf.matmul(tf_test_dataset, weights_1) + biases_1\n",
    "    relu_layer= tf.nn.relu(logits_1)\n",
    "    logits_2 = tf.matmul(relu_layer, weights_2) + biases_2\n",
    "    \n",
    "    test_prediction = tf.nn.softmax(logits_2)"
   ]
  },
  {
   "cell_type": "code",
   "execution_count": 39,
   "metadata": {},
   "outputs": [
    {
     "name": "stdout",
     "output_type": "stream",
     "text": [
      "Initialized\n",
      "Minibatch loss at step 0: 1.282533884048462\n",
      "Minibatch accuracy: 21.9%\n",
      "Validation accuracy: 32.2%\n",
      "Minibatch loss at step 500: 9471996928.0\n",
      "Minibatch accuracy: 9.4%\n",
      "Validation accuracy: 24.8%\n",
      "Minibatch loss at step 1000: 5.812248922061118e+19\n",
      "Minibatch accuracy: 25.0%\n",
      "Validation accuracy: 32.2%\n",
      "Minibatch loss at step 1500: 2.9494533454670365e+29\n",
      "Minibatch accuracy: 10.9%\n",
      "Validation accuracy: 32.2%\n",
      "Minibatch loss at step 2000: nan\n",
      "Minibatch accuracy: 21.1%\n",
      "Validation accuracy: 22.5%\n",
      "Minibatch loss at step 2500: nan\n",
      "Minibatch accuracy: 28.1%\n",
      "Validation accuracy: 22.5%\n",
      "Minibatch loss at step 3000: nan\n",
      "Minibatch accuracy: 17.2%\n",
      "Validation accuracy: 22.5%\n",
      "Minibatch loss at step 3500: nan\n",
      "Minibatch accuracy: 18.0%\n",
      "Validation accuracy: 22.5%\n",
      "Minibatch loss at step 4000: nan\n",
      "Minibatch accuracy: 22.7%\n",
      "Validation accuracy: 22.5%\n",
      "Minibatch loss at step 4500: nan\n",
      "Minibatch accuracy: 25.8%\n",
      "Validation accuracy: 22.5%\n",
      "Minibatch loss at step 5000: nan\n",
      "Minibatch accuracy: 29.7%\n",
      "Validation accuracy: 22.5%\n",
      "Minibatch loss at step 5500: nan\n",
      "Minibatch accuracy: 28.9%\n",
      "Validation accuracy: 22.5%\n",
      "Minibatch loss at step 6000: nan\n",
      "Minibatch accuracy: 22.7%\n",
      "Validation accuracy: 22.5%\n",
      "Minibatch loss at step 6500: nan\n",
      "Minibatch accuracy: 25.8%\n",
      "Validation accuracy: 22.5%\n",
      "Minibatch loss at step 7000: nan\n",
      "Minibatch accuracy: 19.5%\n",
      "Validation accuracy: 22.5%\n",
      "Minibatch loss at step 7500: nan\n",
      "Minibatch accuracy: 22.7%\n",
      "Validation accuracy: 22.5%\n",
      "Minibatch loss at step 8000: nan\n",
      "Minibatch accuracy: 28.1%\n",
      "Validation accuracy: 22.5%\n",
      "Minibatch loss at step 8500: nan\n",
      "Minibatch accuracy: 20.3%\n",
      "Validation accuracy: 22.5%\n",
      "Minibatch loss at step 9000: nan\n",
      "Minibatch accuracy: 21.1%\n",
      "Validation accuracy: 22.5%\n",
      "Minibatch loss at step 9500: nan\n",
      "Minibatch accuracy: 23.4%\n",
      "Validation accuracy: 22.5%\n",
      "Minibatch loss at step 10000: nan\n",
      "Minibatch accuracy: 25.0%\n",
      "Validation accuracy: 22.5%\n",
      "Test accuracy: 22.4%\n"
     ]
    }
   ],
   "source": [
    "num_steps = 10001\n",
    "\n",
    "def accuracy(predictions, labels):\n",
    "    return (100.0 * np.sum(np.argmax(predictions, 1) == np.argmax(labels, 1))\n",
    "          / predictions.shape[0])\n",
    "\n",
    "with tf.Session(graph=graph) as session:\n",
    "    tf.global_variables_initializer().run()\n",
    "    print(\"Initialized\")\n",
    "    for step in range(num_steps):\n",
    "        # Pick an offset within the training data, which has been randomized.\n",
    "        # Note: we could use better randomization across epochs.\n",
    "        offset = (step * batch_size) % (train_labels.shape[0] - batch_size)\n",
    "        # Generate a minibatch.\n",
    "        batch_data = train_dataset[offset:(offset + batch_size), :]\n",
    "        batch_labels = train_labels[offset:(offset + batch_size), :]\n",
    "        # Prepare a dictionary telling the session where to feed the minibatch.\n",
    "        # The key of the dictionary is the placeholder node of the graph to be fed,\n",
    "        # and the value is the numpy array to feed to it.\n",
    "        feed_dict = {tf_train_dataset : batch_data, tf_train_labels : batch_labels}\n",
    "        _, l, predictions = session.run([optimizer, loss, train_prediction], feed_dict=feed_dict)\n",
    "        if (step % 500 == 0):\n",
    "            print(\"Minibatch loss at step {}: {}\".format(step, l))\n",
    "            print(\"Minibatch accuracy: {:.1f}%\".format(accuracy(predictions, batch_labels)))\n",
    "            print(\"Validation accuracy: {:.1f}%\".format(accuracy(valid_prediction.eval(), valid_labels)))\n",
    "    print(\"Test accuracy: {:.1f}%\".format(accuracy(test_prediction.eval(), test_labels)))"
   ]
  },
  {
   "cell_type": "code",
   "execution_count": null,
   "metadata": {},
   "outputs": [],
   "source": []
  }
 ],
 "metadata": {
  "kernelspec": {
   "display_name": "Python 3",
   "language": "python",
   "name": "python3"
  },
  "language_info": {
   "codemirror_mode": {
    "name": "ipython",
    "version": 3
   },
   "file_extension": ".py",
   "mimetype": "text/x-python",
   "name": "python",
   "nbconvert_exporter": "python",
   "pygments_lexer": "ipython3",
   "version": "3.7.1"
  }
 },
 "nbformat": 4,
 "nbformat_minor": 2
}

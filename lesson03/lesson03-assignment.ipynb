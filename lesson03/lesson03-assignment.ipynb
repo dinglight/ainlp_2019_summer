{
 "cells": [
  {
   "cell_type": "markdown",
   "metadata": {},
   "source": [
    "# Gradient Descent"
   ]
  },
  {
   "cell_type": "code",
   "execution_count": 6,
   "metadata": {},
   "outputs": [],
   "source": [
    "from sklearn.datasets import load_boston\n",
    "data = load_boston()\n",
    "x,y = data['data'], data['target']\n",
    "x_rm = x[:,5]"
   ]
  },
  {
   "cell_type": "code",
   "execution_count": 7,
   "metadata": {},
   "outputs": [
    {
     "data": {
      "text/plain": [
       "<matplotlib.collections.PathCollection at 0x22f6f8124a8>"
      ]
     },
     "execution_count": 7,
     "metadata": {},
     "output_type": "execute_result"
    },
    {
     "data": {
      "image/png": "[encoded data removed]",
      "text/plain": [
       "<Figure size 432x288 with 1 Axes>"
      ]
     },
     "metadata": {
      "needs_background": "light"
     },
     "output_type": "display_data"
    }
   ],
   "source": [
    "%matplotlib inline\n",
    "import matplotlib.pyplot as plt\n",
    "plt.scatter(x_rm, y)"
   ]
  },
  {
   "cell_type": "markdown",
   "metadata": {},
   "source": [
    "**Price**"
   ]
  },
  {
   "cell_type": "code",
   "execution_count": 8,
   "metadata": {},
   "outputs": [],
   "source": [
    "def price(rm, k, b):\n",
    "    return rm*k+b"
   ]
  },
  {
   "cell_type": "markdown",
   "metadata": {},
   "source": [
    "**Gradient Descent**"
   ]
  },
  {
   "cell_type": "code",
   "execution_count": 44,
   "metadata": {},
   "outputs": [],
   "source": [
    "def gradient_descent_find_k_b(trying_times, loss, partial_k, partial_b, learning_rate):\n",
    "    min_loss = float('inf')\n",
    "    current_k = random.random() * 200 - 100\n",
    "    current_b = random.random() * 200 - 100\n",
    "\n",
    "    for i in range(trying_times):\n",
    "        price_by_k_and_b = [price(r, current_k, current_b) for r in x_rm]\n",
    "        current_loss = loss(y, price_by_k_and_b)\n",
    "    \n",
    "        if current_loss < min_loss: # performance became better\n",
    "            min_loss = current_loss\n",
    "            best_k, best_b = current_k, current_b\n",
    "            if i % 50 == 0:\n",
    "                print('When time is : {}, get best_k: {} best_b: {}, and the loss is: {}'.format(i, best_k, best_b, min_loss))\n",
    "        \n",
    "        gradient_k = partial_k(x_rm, y, price_by_k_and_b)\n",
    "        gradient_b = partial_b(x_rm, y, price_by_k_and_b)\n",
    "        \n",
    "        current_k = current_k + (-1 * gradient_k) * learning_rate\n",
    "        current_b = current_b + (-1 * gradient_b) * learning_rate\n",
    "    \n",
    "    return best_k, best_b"
   ]
  },
  {
   "cell_type": "markdown",
   "metadata": {},
   "source": [
    "## Part 1: Gradient Descent when $ loss = \\frac{1}{n} \\sum{(y_i - \\hat{y})}^2 $"
   ]
  },
  {
   "cell_type": "markdown",
   "metadata": {},
   "source": [
    "$$ \\frac{\\partial{loss}}{\\partial{k}} = -\\frac{2}{n}\\sum{(y_i - \\hat{y})}x_i $$\n",
    "\n",
    "$$ \\frac{\\partial{loss}}{\\partial{b}} = -\\frac{2}{n}\\sum{(y_i - \\hat{y})} $$"
   ]
  },
  {
   "cell_type": "code",
   "execution_count": 42,
   "metadata": {},
   "outputs": [],
   "source": [
    "def loss_1(y, y_hat):\n",
    "    return sum((y_i - y_hat_i)**2 for y_i, y_hat_i in zip(list(y), list(y_hat))) / len(list(y))\n",
    "\n",
    "def partial_k_1(x, y, y_hat):\n",
    "    n  = len(y)\n",
    "    gradient = 0\n",
    "    for x_i, y_i, y_hat_i in zip(list(x), list(y), list(y_hat)):\n",
    "        gradient += (y_i - y_hat_i) * x_i\n",
    "    return -2 / n * gradient\n",
    "\n",
    "def partial_b_1(x, y, y_hat):\n",
    "    n  = len(y)\n",
    "    gradient = 0\n",
    "    for y_i, y_hat_i in zip(list(y), list(y_hat)):\n",
    "        gradient += (y_i - y_hat_i)\n",
    "    return -2 / n * gradient"
   ]
  },
  {
   "cell_type": "code",
   "execution_count": 48,
   "metadata": {},
   "outputs": [
    {
     "name": "stdout",
     "output_type": "stream",
     "text": [
      "When time is : 0, get best_k: 10.645788363151027 best_b: -20.854269858443104, and the loss is: 597.8620730439523\n",
      "When time is : 50, get best_k: 7.044612024612561 best_b: -21.58263983115413, and the loss is: 45.71103902520882\n",
      "When time is : 100, get best_k: 7.069205382433583 best_b: -21.73908108250793, and the loss is: 45.66088705510277\n",
      "When time is : 150, get best_k: 7.09350477469272 best_b: -21.893652384231803, and the loss is: 45.61192685722879\n",
      "When time is : 200, get best_k: 7.117513715174148 best_b: -22.046376087921544, and the loss is: 45.564130111242704\n",
      "When time is : 250, get best_k: 7.14123567566162 best_b: -22.197274278003313, and the loss is: 45.51746916978301\n",
      "When time is : 300, get best_k: 7.164674086440492 best_b: -22.34636877492707, and the loss is: 45.47191704247827\n",
      "When time is : 350, get best_k: 7.187832336793752 best_b: -22.493681138321868, and the loss is: 45.42744738033522\n",
      "When time is : 400, get best_k: 7.210713775492141 best_b: -22.639232670113568, and the loss is: 45.38403446049772\n",
      "When time is : 450, get best_k: 7.233321711278374 best_b: -22.78304441760506, and the loss is: 45.34165317136711\n",
      "When time is : 500, get best_k: 7.255659413345615 best_b: -22.92513717651985, and the loss is: 45.30027899807739\n",
      "When time is : 550, get best_k: 7.277730111810212 best_b: -23.065531494009207, and the loss is: 45.25988800831461\n",
      "When time is : 600, get best_k: 7.299536998178772 best_b: -23.204247671623296, and the loss is: 45.220456838473666\n",
      "When time is : 650, get best_k: 7.321083225809677 best_b: -23.341305768246908, and the loss is: 45.18196268014382\n",
      "When time is : 700, get best_k: 7.342371910369071 best_b: -23.476725603000055, and the loss is: 45.14438326691574\n",
      "When time is : 750, get best_k: 7.36340613028139 best_b: -23.61052675810387, and the loss is: 45.10769686150139\n",
      "When time is : 800, get best_k: 7.384188927174521 best_b: -23.74272858171229, and the loss is: 45.071882243160914\n",
      "When time is : 850, get best_k: 7.4047233063196325 best_b: -23.87335019070985, and the loss is: 45.036918695427495\n",
      "When time is : 900, get best_k: 7.425012237065737 best_b: -24.00241047347604, and the loss is: 45.00278599412405\n",
      "When time is : 950, get best_k: 7.4450586532690854 best_b: -24.129928092616698, and the loss is: 44.969464395665376\n",
      "When time is : 1000, get best_k: 7.4648654537174055 best_b: -24.255921487662636, and the loss is: 44.93693462563707\n",
      "When time is : 1050, get best_k: 7.4844355025490765 best_b: -24.380408877736098, and the loss is: 44.905177867647076\n",
      "When time is : 1100, get best_k: 7.503771629667303 best_b: -24.5034082641853, and the loss is: 44.87417575244128\n",
      "When time is : 1150, get best_k: 7.522876631149315 best_b: -24.624937433187487, and the loss is: 44.84391034727814\n",
      "When time is : 1200, get best_k: 7.541753269650708 best_b: -24.745013958320914, and the loss is: 44.81436414555584\n",
      "When time is : 1250, get best_k: 7.560404274804919 best_b: -24.863655203105996, and the loss is: 44.7855200566858\n",
      "When time is : 1300, get best_k: 7.578832343617955 best_b: -24.98087832351621, and the loss is: 44.7573613962068\n",
      "When time is : 1350, get best_k: 7.597040140858376 best_b: -25.096700270458857, and the loss is: 44.72987187613399\n",
      "When time is : 1400, get best_k: 7.615030299442647 best_b: -25.211137792226257, and the loss is: 44.703035595537685\n",
      "When time is : 1450, get best_k: 7.632805420815848 best_b: -25.324207436917572, and the loss is: 44.67683703134532\n",
      "When time is : 1500, get best_k: 7.650368075327874 best_b: -25.435925554831805, and the loss is: 44.651261029362516\n",
      "When time is : 1550, get best_k: 7.667720802605097 best_b: -25.54630830083201, and the loss is: 44.626292795507425\n",
      "When time is : 1600, get best_k: 7.684866111917626 best_b: -25.65537163668147, and the loss is: 44.601917887253116\n",
      "When time is : 1650, get best_k: 7.701806482542141 best_b: -25.763131333351723, and the loss is: 44.57812220527351\n",
      "When time is : 1700, get best_k: 7.718544364120408 best_b: -25.86960297330312, and the loss is: 44.55489198528811\n",
      "When time is : 1750, get best_k: 7.735082177013515 best_b: -25.97480195273818, and the loss is: 44.53221379009988\n",
      "When time is : 1800, get best_k: 7.75142231265186 best_b: -26.078743483827868, and the loss is: 44.510074501822714\n",
      "When time is : 1850, get best_k: 7.76756713388096 best_b: -26.181442596911356, and the loss is: 44.48846131429405\n",
      "When time is : 1900, get best_k: 7.783518975303129 best_b: -26.282914142669465, and the loss is: 44.46736172566657\n",
      "When time is : 1950, get best_k: 7.799280143615063 best_b: -26.38317279427211, and the loss is: 44.44676353117744\n"
     ]
    },
    {
     "data": {
      "text/plain": [
       "<matplotlib.collections.PathCollection at 0x22f70e755c0>"
      ]
     },
     "execution_count": 48,
     "metadata": {},
     "output_type": "execute_result"
    },
    {
     "data": {
      "image/png": "[encoded data removed]",
      "text/plain": [
       "<Figure size 432x288 with 1 Axes>"
      ]
     },
     "metadata": {
      "needs_background": "light"
     },
     "output_type": "display_data"
    }
   ],
   "source": [
    "k,b=gradient_descent_find_k_b(2000, loss_1, partial_k_1, partial_b_1, 1e-02)\n",
    "price_by_gradient_k_and_b = [price(r, k, b) for r in x_rm]\n",
    "plt.scatter(x_rm, y)\n",
    "plt.scatter(x_rm, price_by_gradient_k_and_b)"
   ]
  },
  {
   "cell_type": "markdown",
   "metadata": {},
   "source": [
    "## Part 2: Gradient Descent when $ loss = \\frac{1}{n} \\sum{|y_i - \\hat{y}|} $"
   ]
  },
  {
   "cell_type": "markdown",
   "metadata": {},
   "source": [
    "$$ \\frac{\\partial{loss}}{\\partial{k}} = \\begin{cases}\\frac{1}{n}\\sum{-x_i} & y\\ge\\hat{y}\\\\\\frac{1}{n}\\sum{x_i}& y<\\hat{y} \\end{cases} $$\n",
    "\n",
    "$$ \\frac{\\partial{loss}}{\\partial{b}} = \\begin{cases}\\frac{1}{n}\\sum{-1} & y\\ge\\hat{y}\\\\\\frac{1}{n}\\sum{1}& y<\\hat{y} \\end{cases}$$"
   ]
  },
  {
   "cell_type": "code",
   "execution_count": 37,
   "metadata": {},
   "outputs": [],
   "source": [
    "def loss_2(y, y_hat):\n",
    "    return sum(abs(y_i - y_hat_i) for y_i, y_hat_i in zip(list(y), list(y_hat))) / len(list(y))\n",
    "\n",
    "def partial_k_2(x, y, y_hat):\n",
    "    n  = len(y)\n",
    "    gradient = 0\n",
    "    for x_i, y_i, y_hat_i in zip(list(x), list(y), list(y_hat)):\n",
    "        if y_i >= y_hat_i:\n",
    "            gradient += -1 * x_i\n",
    "        else:\n",
    "            gradient += x_i\n",
    "    return 1 / n * gradient\n",
    "\n",
    "def partial_b_2(x, y, y_hat):\n",
    "    n  = len(y)\n",
    "    gradient = 0\n",
    "    for y_i, y_hat_i in zip(list(y), list(y_hat)):\n",
    "        if y_i >= y_hat_i:\n",
    "            gradient += -1\n",
    "        else:\n",
    "            gradient += 1\n",
    "    return 1 / n * gradient"
   ]
  },
  {
   "cell_type": "code",
   "execution_count": 47,
   "metadata": {},
   "outputs": [
    {
     "name": "stdout",
     "output_type": "stream",
     "text": [
      "When time is : 0, get best_k: -73.03237018514747 best_b: -48.90253643729676, and the loss is: 530.4170878167902\n",
      "When time is : 50, get best_k: -69.89005299147163 best_b: -48.40253643729686, and the loss is: 510.1687731254483\n",
      "When time is : 100, get best_k: -66.7477357977958 best_b: -47.90253643729696, and the loss is: 489.9204584341065\n",
      "When time is : 150, get best_k: -63.60541860411996 best_b: -47.40253643729706, and the loss is: 469.6721437427651\n",
      "When time is : 200, get best_k: -60.463101410444125 best_b: -46.90253643729716, and the loss is: 449.42382905142273\n",
      "When time is : 250, get best_k: -57.32078421676829 best_b: -46.40253643729726, and the loss is: 429.175514360081\n",
      "When time is : 300, get best_k: -54.17846702309245 best_b: -45.90253643729736, and the loss is: 408.9271996687392\n",
      "When time is : 350, get best_k: -51.036149829416615 best_b: -45.40253643729746, and the loss is: 388.67888497739733\n",
      "When time is : 400, get best_k: -47.89383263574078 best_b: -44.902536437297556, and the loss is: 368.4305702860558\n",
      "When time is : 450, get best_k: -44.75151544206494 best_b: -44.402536437297655, and the loss is: 348.1822555947135\n",
      "When time is : 500, get best_k: -41.609198248389106 best_b: -43.902536437297755, and the loss is: 327.93394090337205\n",
      "When time is : 550, get best_k: -38.46688105471327 best_b: -43.402536437297854, and the loss is: 307.6856262120304\n",
      "When time is : 600, get best_k: -35.32456386103743 best_b: -42.902536437297954, and the loss is: 287.43731152068835\n",
      "When time is : 650, get best_k: -32.182246667361596 best_b: -42.40253643729805, and the loss is: 267.1889968293464\n",
      "When time is : 700, get best_k: -29.03992947368576 best_b: -41.90253643729815, and the loss is: 246.94068213800497\n",
      "When time is : 750, get best_k: -25.897612280009923 best_b: -41.40253643729825, and the loss is: 226.69236744666284\n",
      "When time is : 800, get best_k: -22.755295086334087 best_b: -40.90253643729835, and the loss is: 206.4440527553213\n",
      "When time is : 850, get best_k: -19.61297789265825 best_b: -40.40253643729845, and the loss is: 186.1957380639798\n",
      "When time is : 900, get best_k: -16.470660698982414 best_b: -39.90253643729855, and the loss is: 165.9474233726376\n",
      "When time is : 950, get best_k: -13.328343505306501 best_b: -39.40253643729865, and the loss is: 145.69910868129537\n",
      "When time is : 1000, get best_k: -10.186026311630576 best_b: -38.90253643729875, and the loss is: 125.45079398995293\n",
      "When time is : 1050, get best_k: -7.0437091179546645 best_b: -38.40253643729885, and the loss is: 105.20247929861074\n",
      "When time is : 1100, get best_k: -3.9013919242787827 best_b: -37.90253643729895, and the loss is: 84.95416460726857\n",
      "When time is : 1150, get best_k: -0.759074730602884 best_b: -37.40253643729905, and the loss is: 64.70584991592636\n",
      "When time is : 1200, get best_k: 2.38324246307301 best_b: -36.90253643729915, and the loss is: 44.45753522458418\n",
      "When time is : 1250, get best_k: 5.525559656748902 best_b: -36.40253643729925, and the loss is: 24.209220533242082\n",
      "When time is : 1300, get best_k: 8.406160249634278 best_b: -35.94308979698308, and the loss is: 7.057080702501843\n",
      "When time is : 1350, get best_k: 9.29405760141293 best_b: -35.80344552820838, and the loss is: 4.4402720797508675\n",
      "When time is : 1400, get best_k: 9.303795585602666 best_b: -35.80391983650871, and the loss is: 4.439666175027686\n",
      "When time is : 1450, get best_k: 9.304132186393188 best_b: -35.805856595401885, and the loss is: 4.439658453997515\n",
      "When time is : 1500, get best_k: 9.30446878718371 best_b: -35.80779335429506, and the loss is: 4.439650732967346\n",
      "When time is : 1550, get best_k: 9.304805387974232 best_b: -35.80973011318823, and the loss is: 4.439643011937181\n",
      "When time is : 1600, get best_k: 9.305141988764754 best_b: -35.8116668720814, and the loss is: 4.439635290907011\n",
      "When time is : 1650, get best_k: 9.305478589555277 best_b: -35.813603630974576, and the loss is: 4.439627569876845\n",
      "When time is : 1700, get best_k: 9.305815190345799 best_b: -35.81554038986775, and the loss is: 4.4396198488466805\n",
      "When time is : 1750, get best_k: 9.30615179113632 best_b: -35.81747714876092, and the loss is: 4.43961212781651\n",
      "When time is : 1800, get best_k: 9.306488391926843 best_b: -35.819413907654095, and the loss is: 4.439604406786342\n",
      "When time is : 1850, get best_k: 9.306824992717365 best_b: -35.82135066654727, and the loss is: 4.439596685756175\n",
      "When time is : 1900, get best_k: 9.307161593507887 best_b: -35.82328742544044, and the loss is: 4.439588964726012\n",
      "When time is : 1950, get best_k: 9.30749819429841 best_b: -35.825224184333614, and the loss is: 4.439581243695842\n"
     ]
    },
    {
     "data": {
      "text/plain": [
       "<matplotlib.collections.PathCollection at 0x22f70e1d780>"
      ]
     },
     "execution_count": 47,
     "metadata": {},
     "output_type": "execute_result"
    },
    {
     "data": {
      "image/png": "[encoded data removed]",
      "text/plain": [
       "<Figure size 432x288 with 1 Axes>"
      ]
     },
     "metadata": {
      "needs_background": "light"
     },
     "output_type": "display_data"
    }
   ],
   "source": [
    "k,b=gradient_descent_find_k_b(2000, loss_2, partial_k_2, partial_b_2, 1e-02)\n",
    "price_by_gradient_k_and_b = [price(r, k, b) for r in x_rm]\n",
    "plt.scatter(x_rm, y)\n",
    "plt.scatter(x_rm, price_by_gradient_k_and_b)"
   ]
  },
  {
   "cell_type": "markdown",
   "metadata": {},
   "source": [
    "# Dynamic Programming"
   ]
  },
  {
   "cell_type": "markdown",
   "metadata": {},
   "source": [
    "### Rob Cutting Problem"
   ]
  },
  {
   "cell_type": "code",
   "execution_count": 1,
   "metadata": {},
   "outputs": [],
   "source": [
    "rob_price = [0, 1, 5, 8, 9, 10, 17, 17, 20, 24, 30]"
   ]
  },
  {
   "cell_type": "code",
   "execution_count": 2,
   "metadata": {},
   "outputs": [],
   "source": [
    "def rob_profit_r(price, length):\n",
    "    #return max([price[length]] +[rob_profit_r(price, i) + rob_profit_r(price, length-i) for i in range(1, length)])\n",
    "    if length <= 0:\n",
    "        return 0\n",
    "    max_profit = -1\n",
    "    for i in range(1, length+1):\n",
    "        max_profit = max(max_profit, price[i] + rob_profit_r(price, length-i))\n",
    "    return max_profit"
   ]
  },
  {
   "cell_type": "code",
   "execution_count": 3,
   "metadata": {},
   "outputs": [],
   "source": [
    "def rob_profit(price, length):\n",
    "    new_price = [price[i] if i < len(price) else 0 for i in range(length+1)]\n",
    "    return rob_profit_r(new_price, length)"
   ]
  },
  {
   "cell_type": "code",
   "execution_count": 4,
   "metadata": {},
   "outputs": [
    {
     "data": {
      "text/plain": [
       "52"
      ]
     },
     "execution_count": 4,
     "metadata": {},
     "output_type": "execute_result"
    }
   ],
   "source": [
    "rob_profit(rob_price, 18)"
   ]
  },
  {
   "cell_type": "code",
   "execution_count": 20,
   "metadata": {},
   "outputs": [],
   "source": [
    "def rob_profit_m(price, length, result):\n",
    "    if length == 0:\n",
    "        return 0\n",
    "    if result[length] == 0:\n",
    "        profit = -1\n",
    "        for i in range(1, length+1):\n",
    "            profit = max(profit, price[i] + rob_profit_m(price, length-i, result))\n",
    "        result[length] = profit\n",
    "    return result[length]\n",
    "\n",
    "def rob_profit_memo(price, length):\n",
    "    new_price = [price[i] if i < len(price) else 0 for i in range(length+1)]\n",
    "    result = [0 for i in range(length+1)]\n",
    "    return rob_profit_m(new_price, length, result)"
   ]
  },
  {
   "cell_type": "code",
   "execution_count": 21,
   "metadata": {},
   "outputs": [
    {
     "data": {
      "text/plain": [
       "52"
      ]
     },
     "execution_count": 21,
     "metadata": {},
     "output_type": "execute_result"
    }
   ],
   "source": [
    "rob_profit_memo(rob_price, 18)"
   ]
  },
  {
   "cell_type": "code",
   "execution_count": 22,
   "metadata": {},
   "outputs": [],
   "source": [
    "def cut_rod_bottom_up(price, length):\n",
    "    results = [0 for i in range(length+1)]\n",
    "\n",
    "    for j in range(1, length+1):\n",
    "        p = -1\n",
    "        for i in range(1, j+1):\n",
    "            p = max(p, price[i] + results[j-i])\n",
    "        results[j] = p\n",
    "    return results[length]\n",
    "\n",
    "def rob_profit_bottom_up(price, length):\n",
    "    new_price = [price[i] if i < len(price) else 0 for i in range(length+1)]\n",
    "    return cut_rod_bottom_up(new_price, length)"
   ]
  },
  {
   "cell_type": "code",
   "execution_count": 23,
   "metadata": {},
   "outputs": [
    {
     "data": {
      "text/plain": [
       "52"
      ]
     },
     "execution_count": 23,
     "metadata": {},
     "output_type": "execute_result"
    }
   ],
   "source": [
    "rob_profit_bottom_up(rob_price, 18)"
   ]
  },
  {
   "cell_type": "code",
   "execution_count": 26,
   "metadata": {},
   "outputs": [],
   "source": [
    "def cut_rod_bottom_up_with_solution(price, length, solution):\n",
    "    results = [0 for i in range(length+1)]\n",
    "\n",
    "    for j in range(1, length+1):\n",
    "        p = -1\n",
    "        for i in range(1, j+1):\n",
    "            if p < (price[i] + results[j-i]):\n",
    "                p = price[i] + results[j-i]\n",
    "                solution[j] = i\n",
    "        results[j] = p\n",
    "    return results[length]\n",
    "\n",
    "def rob_profit_bottom_up_with_solution(price, length):\n",
    "    new_price = [price[i] if i < len(price) else 0 for i in range(length+1)]\n",
    "    solution = {}\n",
    "    p = cut_rod_bottom_up_with_solution(new_price, length, solution)\n",
    "    n = length\n",
    "    while n > 0:\n",
    "        print(solution[n])\n",
    "        n = n - solution[n]"
   ]
  },
  {
   "cell_type": "code",
   "execution_count": 27,
   "metadata": {},
   "outputs": [
    {
     "name": "stdout",
     "output_type": "stream",
     "text": [
      "2\n",
      "6\n",
      "10\n"
     ]
    }
   ],
   "source": [
    "rob_profit_bottom_up_with_solution(rob_price, 18)"
   ]
  },
  {
   "cell_type": "markdown",
   "metadata": {},
   "source": [
    "## Part 3: Finish the Solution Parse Part of Edit-Distance"
   ]
  },
  {
   "cell_type": "code",
   "execution_count": 32,
   "metadata": {},
   "outputs": [],
   "source": [
    "#@lru_cache(maxsize=2**10)\n",
    "solution = {}\n",
    "def edit_distance(string1, string2):\n",
    "    \n",
    "    if len(string1) == 0: return len(string2)\n",
    "    if len(string2) == 0: return len(string1)\n",
    "    \n",
    "    tail_s1 = string1[-1]\n",
    "    tail_s2 = string2[-1]\n",
    "    \n",
    "    candidates = [\n",
    "        (edit_distance(string1[:-1], string2) + 1, 'DEL {}'.format(tail_s1)),  # string 1 delete tail\n",
    "        (edit_distance(string1, string2[:-1]) + 1, 'ADD {}'.format(tail_s2)),  # string 1 add tail of string2\n",
    "    ]\n",
    "    \n",
    "    if tail_s1 == tail_s2:\n",
    "        both_forward = (edit_distance(string1[:-1], string2[:-1]) + 0, '')\n",
    "    else:\n",
    "        both_forward = (edit_distance(string1[:-1], string2[:-1]) + 1, 'SUB {} => {}'.format(tail_s1, tail_s2))\n",
    "\n",
    "    candidates.append(both_forward)\n",
    "    \n",
    "    min_distance, operation = min(candidates, key=lambda x: x[0])\n",
    "    \n",
    "    solution[(string1, string2)] = operation \n",
    "    \n",
    "    return min_distance"
   ]
  },
  {
   "cell_type": "code",
   "execution_count": 36,
   "metadata": {},
   "outputs": [
    {
     "name": "stdout",
     "output_type": "stream",
     "text": [
      "2\n",
      "('h', 'h') \n",
      "('h', 'he') ADD e\n",
      "('h', 'hel') ADD l\n",
      "('h', 'hell') ADD l\n",
      "('h', 'hello') ADD o\n",
      "('he', 'h') DEL e\n",
      "('he', 'he') \n",
      "('he', 'hel') ADD l\n",
      "('he', 'hell') ADD l\n",
      "('he', 'hello') ADD o\n",
      "('her', 'h') DEL r\n",
      "('her', 'he') DEL r\n",
      "('her', 'hel') SUB r => l\n",
      "('her', 'hell') ADD l\n",
      "('her', 'hello') ADD o\n",
      "('hero', 'h') DEL o\n",
      "('hero', 'he') DEL o\n",
      "('hero', 'hel') DEL o\n",
      "('hero', 'hell') SUB o => l\n",
      "('hero', 'hello') \n"
     ]
    }
   ],
   "source": [
    "print(edit_distance('hero', 'hello'))\n",
    "for i in solution:\n",
    "    print(i, solution[i])"
   ]
  },
  {
   "cell_type": "code",
   "execution_count": 49,
   "metadata": {},
   "outputs": [],
   "source": [
    "def parse_edit_distance_solution(string1, string2, n, solution):\n",
    "    while n >= 0:\n",
    "        operation = solution[(string1, string2)]\n",
    "        if operation != '':\n",
    "            print(string1, string2, operation)\n",
    "        if operation[0:3] == 'ADD':\n",
    "            string2 = string2[:-1]\n",
    "        elif operation[0:3] == 'DEL':\n",
    "            string1 = string1[:-1]\n",
    "        else:\n",
    "            string1 = string1[:-1]\n",
    "            string2 = string2[:-1]\n",
    "        n -= 1"
   ]
  },
  {
   "cell_type": "code",
   "execution_count": 50,
   "metadata": {},
   "outputs": [
    {
     "name": "stdout",
     "output_type": "stream",
     "text": [
      "her hell ADD l\n",
      "her hel SUB r => l\n"
     ]
    }
   ],
   "source": [
    "parse_edit_distance_solution('hero', 'hello', 2, solution)"
   ]
  },
  {
   "cell_type": "markdown",
   "metadata": {},
   "source": [
    "## Part 5-1: review machine learning"
   ]
  },
  {
   "cell_type": "markdown",
   "metadata": {},
   "source": [
    "1. Why do we use Derivative / Gredient to fit a target function?\n",
    "\n",
    "Ans: 通过梯度下降可以找到正确的方向，能够更快找到目标\n",
    "\n",
    "2. In the words 'Gredient Descent', what's the Gredient and what's the Descent?\n",
    "\n",
    "Ans: Gradient 就是偏导数， Descent使目标函数达到最小值\n",
    "\n",
    "3. What's the advantages of the 3rd gradient descent method compared to the previous methods?\n",
    "\n",
    "Ans:速度快\n",
    "\n",
    "4. Using the simple words to describe: What's the machine leanring.\n",
    "\n",
    "Ans:让机器从数据中学习拟合函数的参数，从而找到拟合函数"
   ]
  },
  {
   "cell_type": "markdown",
   "metadata": {},
   "source": [
    "## Part 5-2: review Dynamic Programming"
   ]
  },
  {
   "cell_type": "markdown",
   "metadata": {},
   "source": [
    "1. Why do we need dynamic programming? What's the difference of dynamic programming and previous talked search problme?\n",
    "\n",
    "Ans: 减少计算，可以更快的获得结果。动态规划与前面搜索问题的不同是：动态规划把子问题的结果记录下来，下次使用时可以直接使用不需要重复计算了，节省了大量的时间。\n",
    "\n",
    "2. Why do we still need dynamic programming? Why not we train a machine learning to fit a function which could get the right answer based on inputs?\n",
    "\n",
    "Ans: 不同的问题有不同的方法去解决，没有一种方法可以解决所有问题。对于有些问题使用动态规划可以快速得到正确的解。\n",
    "使用机器学习虽然可以根据已知的输入拟合一个函数，但是这个过程会很慢，而且拟合的函数不一定正确，也不能适用未来的情况。我们应该使用正确的方法去解决想对应的问题。\n",
    "\n",
    "3. Can you catch up at least 3 problems which could solved by Dynamic Programming?\n",
    "\n",
    "Ans: 1. 背包问题. 2. 最短路径问题. 3. 编辑距离\n",
    "\n",
    "4. Can you catch up at least 3 problems wich could sloved by Edit Distance?\n",
    "\n",
    "Ans: 1. 拼写纠错. 2. 两个词向量的相似度. 3. DNA序列匹配\n",
    "\n",
    "5. Please summarize the three main features of Dynamic Programming, and make a concise explain for each feature.\n",
    "\n",
    "Ans: 最优子结构性质。如果问题的最优解所包含的子问题的解也是最优的，我们就称该问题具有最优子结构性质（即满足最优化原理）。最优子结构性质为动态规划算法解决问题提供了重要线索。\n",
    "无后效性。即子问题的解一旦确定，就不再改变，不受在这之后、包含它的更大的问题的求解决策影响。\n",
    "子问题重叠性质。子问题重叠性质是指在用递归算法自顶向下对问题进行求解时，每次产生的子问题并不总是新问题，有些子问题会被重复计算多次。动态规划算法正是利用了这种子问题的重叠性质，对每一个子问题只计算一次，然后将其计算结果保存在一个表格中，当再次需要计算已经计算过的子问题时，只是在表格中简单地查看一下结果，从而获得较高的效率。\n",
    "\n",
    "6. What's the disadvantages of Dynamic Programming? (You may need search by yourself in Internet)\n",
    "\n",
    "Ans：动态规划的缺点：需要把所有子问题的解都存储下来，需要占用大量的空间。"
   ]
  },
  {
   "cell_type": "markdown",
   "metadata": {},
   "source": [
    "## Part 6: Preparation of Project-01"
   ]
  },
  {
   "cell_type": "markdown",
   "metadata": {},
   "source": [
    "Using python Flask or Bottle to finish your first simple web app:\n",
    "\n",
    "https://bottlepy.org/\n",
    "\n",
    "Learn what's the SQL, and try some simple SQL operations:\n",
    "\n",
    "https://www.w3schools.com/sql/sql_intro.asp\n",
    "\n",
    "Learn what's the HTML ( ONLY need to know the basic things)\n",
    "\n",
    "https://getbootstrap.com/; https://www.w3schools.com/html/"
   ]
  },
  {
   "cell_type": "markdown",
   "metadata": {},
   "source": [
    "## (Optinal) Finish the k-person-salesman problem:"
   ]
  },
  {
   "cell_type": "code",
   "execution_count": 4,
   "metadata": {},
   "outputs": [],
   "source": [
    "import random\n",
    "import matplotlib.pylab as plt\n",
    "\n",
    "latitudes = [random.randint(-100, 100) for _ in range(20)]\n",
    "longitude = [random.randint(-100, 100) for _ in range(20)]"
   ]
  },
  {
   "cell_type": "code",
   "execution_count": 5,
   "metadata": {},
   "outputs": [
    {
     "data": {
      "text/plain": [
       "<matplotlib.collections.PathCollection at 0x22f6e32aeb8>"
      ]
     },
     "execution_count": 5,
     "metadata": {},
     "output_type": "execute_result"
    },
    {
     "data": {
      "image/png": "[encoded data removed]",
      "text/plain": [
       "<Figure size 432x288 with 1 Axes>"
      ]
     },
     "metadata": {
      "needs_background": "light"
     },
     "output_type": "display_data"
    }
   ],
   "source": [
    "chosen_p = (-50, 10)\n",
    "chosen_p2 = (1, 30)\n",
    "chosen_p3 = (99, 15)\n",
    "\n",
    "plt.scatter(latitudes, longitude)\n",
    "plt.scatter([chosen_p[0]], [chosen_p[1]], color='r')\n",
    "plt.scatter([chosen_p2[0]], [chosen_p2[1]], color='r')\n",
    "plt.scatter([chosen_p3[0]], [chosen_p3[1]], color='r')"
   ]
  }
 ],
 "metadata": {
  "kernelspec": {
   "display_name": "Python 3",
   "language": "python",
   "name": "python3"
  },
  "language_info": {
   "codemirror_mode": {
    "name": "ipython",
    "version": 3
   },
   "file_extension": ".py",
   "mimetype": "text/x-python",
   "name": "python",
   "nbconvert_exporter": "python",
   "pygments_lexer": "ipython3",
   "version": "3.7.1"
  }
 },
 "nbformat": 4,
 "nbformat_minor": 2
}

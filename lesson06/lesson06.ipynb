{
 "cells": [
  {
   "cell_type": "markdown",
   "metadata": {},
   "source": [
    "# 课堂笔记"
   ]
  },
  {
   "cell_type": "markdown",
   "metadata": {},
   "source": [
    "## 基于实例的学习 K近邻 (K-nearest-neightbors)"
   ]
  },
  {
   "cell_type": "markdown",
   "metadata": {},
   "source": [
    "K近邻学习是一种监督学习方法。其工作机制：给定测试样本，基于某种距离度量找出训练集中与其最靠近的k个训练样本，然后基于这k个“邻居”的信息来进行预测。"
   ]
  },
  {
   "cell_type": "markdown",
   "metadata": {},
   "source": [
    "## Lazy Learning\n",
    "\n",
    "此类学习技术在训练阶段仅仅是把样本保存起来，训练时间开销为零，待收到测试样本后再进行处理。(KNN)"
   ]
  },
  {
   "cell_type": "markdown",
   "metadata": {},
   "source": [
    "## Eager learning\n",
    "\n",
    "此类学习技术在训练阶段就对样本进行学习处理，总结出模型规律的学习处理方法。"
   ]
  },
  {
   "cell_type": "markdown",
   "metadata": {},
   "source": [
    "## 根据模型的计算结果可以将学习分为两类\n",
    "\n",
    "- classification   x->y [0.0, 0.4, 0.5, 0.1]\n",
    "- regression       x->y number"
   ]
  },
  {
   "cell_type": "markdown",
   "metadata": {},
   "source": [
    "## 如何评价模型\n",
    "\n",
    "\n",
    "分类结果混淆矩阵\n",
    "\n",
    "|----|  ---   | 真实情况  | 真实情况|\n",
    "|----|  ----  | ----  |----|\n",
    "|----| ----   | positive正例 |negative反例|\n",
    "|预测结果| positive正例 | tp真正例 |fn假反例|\n",
    "|预测结果| negative反例 | fp假正例 |tn真反例|\n",
    "\n",
    "\n",
    "- Accuracy 精度 ： 分类正确的样本数占样本总数的比例\n",
    "\n",
    "- Precision 查准率\n",
    "\n",
    "$$precision = \\frac{tp}{tp+fp} $$\n",
    "\n",
    "- Recall 查全率\n",
    "\n",
    "$$recall = \\frac{tp}{tp+fn} $$\n",
    "\n",
    "- F1_score 基于查准率与查全率的调和平均定义。\n",
    "\n",
    "$$\\frac{1}{F1} = \\frac{1}{2} * \\big(\\frac{1}{p} + \\frac{1}{r}\\big) $$\n",
    "\n",
    "- $F_\\beta$_score 加权调和平均\n",
    "\n",
    "$$\\frac{1}{F_\\beta} = \\frac{1}{1+\\beta^2} * \\big(\\frac{1}{p} + \\frac{\\beta^2}{r}\\big) $$\n",
    "\n",
    "其中$\\beta$>0 度量了查全率对查准率的相对重要性。 $\\beta$=1时退化为标准的F1；$\\beta$>1时查全率有更大的影响； $\\beta$<1时查准率有更大的影响。\n",
    "\n",
    "在一些应用中，对查准率和查全率的重视程度有所不同。例如在商品推荐系统中，为了尽可能少打扰用户，更希望对剑内容确是用户感兴趣的，此时查准率更重要；而在逃犯信息检索系统中，更希望尽可能少漏掉逃犯，此时查全率更重要。\n",
    "\n",
    "- ROC AUC\n",
    "\n",
    "ROC受试者工作特征(Receiver Operation Characteristic), ROC曲线的纵轴是“真正例率”(True Positive Rate, TPR)，横轴是“假正例率”(False Positive Rate, FPR).\n",
    "\n",
    "$$TPR=\\frac{tp}{tp+fn}$$\n",
    "\n",
    "$$FPR=\\frac{fp}{tn+fp}$$\n",
    "\n",
    "ROC曲线下的面积就是AUC(Area Under Curve). 如果一个模型的ROCAUC面积越大，则该模型越好。\n"
   ]
  },
  {
   "cell_type": "markdown",
   "metadata": {},
   "source": [
    "## Example\n",
    "\n",
    "\n",
    "|---|真实|真实|真实|\n",
    "|---|---|---|---|\n",
    "|预测|B/b|B/b|B/b|\n",
    "|预测|B/b|B/b|R/r|\n",
    "|预测|R/r|B/r|R/r|\n",
    "|预测|---|---|---|\n",
    "\n",
    "black 是正例， red是反例\n",
    "\n",
    "acc = 8/9\n",
    "\n",
    "precision = 5/(5+0)=1\n",
    "\n",
    "recall = 5/(5+1)"
   ]
  },
  {
   "cell_type": "markdown",
   "metadata": {},
   "source": [
    "## Outliner 异常值\n",
    "\n",
    "简单定义： 将已有的样本数据从小到大排列，如果该值乘以1.5后比处在25%位的数的还小，或者该值比处于75%的数乘以1.5倍还大，那么这个值就是异常值。\n",
    "\n",
    "x < percentil(25)/1.5 or x > percentile(75)*1.5"
   ]
  },
  {
   "cell_type": "markdown",
   "metadata": {},
   "source": [
    "## Bias\n",
    "\n",
    "Bias 偏差度量了学习算法的期望预测与真实结果的偏离程度，即刻画了学习算法本身的拟合能力。模型准不准"
   ]
  },
  {
   "cell_type": "markdown",
   "metadata": {},
   "source": [
    "## Variance\n",
    "\n",
    "variance 变化度量了同样大小的训练集的变动所导致的学习性能的变化，即刻画了数据扰动所造成的影响"
   ]
  },
  {
   "cell_type": "markdown",
   "metadata": {},
   "source": [
    "___________________________________________________________________"
   ]
  },
  {
   "cell_type": "markdown",
   "metadata": {},
   "source": [
    "# Assignments"
   ]
  },
  {
   "cell_type": "markdown",
   "metadata": {},
   "source": [
    "## 1. Summarize the reasons of overfitting and underfitting."
   ]
  },
  {
   "cell_type": "markdown",
   "metadata": {},
   "source": [
    "the reason of overrfitting:\n",
    "    1. 数据量太少\n",
    "    2. 数据采样偏差\n",
    "    3. 模型太过复杂\n",
    "\n",
    "the reason of underfitting:\n",
    "    1. 模型太过简单"
   ]
  },
  {
   "cell_type": "markdown",
   "metadata": {},
   "source": [
    "## 2 install the numpy, scikit-learning, keras, tensorflow"
   ]
  },
  {
   "cell_type": "markdown",
   "metadata": {},
   "source": [
    "pip install tensorflow -i https://pypi.tuna.tsinghua.edu.cn/simple"
   ]
  },
  {
   "cell_type": "markdown",
   "metadata": {},
   "source": [
    "## 3. Writing down three sceneries that machine learning has been used now"
   ]
  },
  {
   "cell_type": "markdown",
   "metadata": {},
   "source": [
    "垃圾邮件过滤，手写识别，人脸识别"
   ]
  },
  {
   "cell_type": "markdown",
   "metadata": {},
   "source": [
    "## 4. Come out with three new sceneries with which machine learning may be applied."
   ]
  },
  {
   "cell_type": "markdown",
   "metadata": {},
   "source": [
    "疾病预测，地震预测，骚扰电话过滤"
   ]
  },
  {
   "cell_type": "code",
   "execution_count": null,
   "metadata": {},
   "outputs": [],
   "source": []
  }
 ],
 "metadata": {
  "kernelspec": {
   "display_name": "Python 3",
   "language": "python",
   "name": "python3"
  },
  "language_info": {
   "codemirror_mode": {
    "name": "ipython",
    "version": 3
   },
   "file_extension": ".py",
   "mimetype": "text/x-python",
   "name": "python",
   "nbconvert_exporter": "python",
   "pygments_lexer": "ipython3",
   "version": "3.7.1"
  }
 },
 "nbformat": 4,
 "nbformat_minor": 2
}

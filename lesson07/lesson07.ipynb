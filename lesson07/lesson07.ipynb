{
 "cells": [
  {
   "cell_type": "markdown",
   "metadata": {},
   "source": [
    "# Note"
   ]
  },
  {
   "cell_type": "markdown",
   "metadata": {},
   "source": [
    "## Mean Squared Error (MSE)\n",
    "\n",
    "$$MSE = \\sum{(f(x)-y)^2}$$"
   ]
  },
  {
   "cell_type": "markdown",
   "metadata": {},
   "source": [
    "## Convex Function\n",
    "\n",
    "MSE 就是一个凸函数\n",
    "\n",
    "凸优化就是在凸函数上进行优化。"
   ]
  },
  {
   "cell_type": "markdown",
   "metadata": {},
   "source": [
    "## Normalization\n",
    "\n",
    "$$\\overline{x}_{j} = \\frac{1}{n}\\sum^{n}_{i=1}{x_{i,j}}$$\n",
    "$$\\sigma_{j}^2 = \\frac{1}{n-1}\\sum^{n}_{i=1}{(x_{i,j} - \\overline{x}_{j})^2}$$\n",
    "\n",
    "new input: \n",
    "\n",
    "$$\\tilde{x}_{i,j} = \\frac{(x_{i,j} - \\overline{x}_{j})}{\\sigma_{j}}$$"
   ]
  },
  {
   "cell_type": "markdown",
   "metadata": {},
   "source": [
    "## scikit-learning"
   ]
  },
  {
   "cell_type": "code",
   "execution_count": 3,
   "metadata": {},
   "outputs": [
    {
     "data": {
      "text/plain": [
       "array([[0.996229  , 0.32996053],\n",
       "       [0.34840602, 0.07882585],\n",
       "       [0.35847729, 0.61202943],\n",
       "       [0.04476209, 0.54591658],\n",
       "       [0.06536415, 0.82819444],\n",
       "       [0.26919042, 0.91122834],\n",
       "       [0.03905652, 0.82925734],\n",
       "       [0.72072396, 0.41073836],\n",
       "       [0.91480061, 0.20659439],\n",
       "       [0.06154224, 0.93744262],\n",
       "       [0.41935103, 0.69447396],\n",
       "       [0.24534624, 0.42315393],\n",
       "       [0.302511  , 0.10136192],\n",
       "       [0.94872262, 0.78193689],\n",
       "       [0.57761129, 0.57585538],\n",
       "       [0.75237278, 0.84996653],\n",
       "       [0.36234829, 0.11097245],\n",
       "       [0.07776176, 0.95837489],\n",
       "       [0.49551729, 0.2754184 ],\n",
       "       [0.34962809, 0.72797754]])"
      ]
     },
     "execution_count": 3,
     "metadata": {},
     "output_type": "execute_result"
    }
   ],
   "source": [
    "import numpy as np\n",
    "random_data = np.random.random((20,2))\n",
    "random_data"
   ]
  },
  {
   "cell_type": "code",
   "execution_count": 5,
   "metadata": {},
   "outputs": [
    {
     "data": {
      "text/plain": [
       "<matplotlib.collections.PathCollection at 0x1bb67944828>"
      ]
     },
     "execution_count": 5,
     "metadata": {},
     "output_type": "execute_result"
    },
    {
     "data": {
      "image/png": "[encoded data removed]",
      "text/plain": [
       "<Figure size 432x288 with 1 Axes>"
      ]
     },
     "metadata": {
      "needs_background": "light"
     },
     "output_type": "display_data"
    }
   ],
   "source": [
    "import random\n",
    "def assuming_function(x):\n",
    "    return 13.4 * x + 5 + random.randint(-5,5)\n",
    "\n",
    "%matplotlib inline\n",
    "import matplotlib.pyplot as plt\n",
    "X = random_data[:, 0]\n",
    "y = [assuming_function(x) for x in X]\n",
    "\n",
    "plt.scatter(X, y)"
   ]
  },
  {
   "cell_type": "code",
   "execution_count": 12,
   "metadata": {},
   "outputs": [
    {
     "data": {
      "text/plain": [
       "[<matplotlib.lines.Line2D at 0x1bb6909d630>]"
      ]
     },
     "execution_count": 12,
     "metadata": {},
     "output_type": "execute_result"
    },
    {
     "data": {
      "image/png": "[encoded data removed]",
      "text/plain": [
       "<Figure size 432x288 with 1 Axes>"
      ]
     },
     "metadata": {
      "needs_background": "light"
     },
     "output_type": "display_data"
    }
   ],
   "source": [
    "from sklearn.linear_model import LinearRegression\n",
    "X = X.reshape(-1,1)\n",
    "reg = LinearRegression().fit(X,y)\n",
    "reg.score(X,y)\n",
    "# Make predictions using the testing set\n",
    "y_pred = reg.predict(X)\n",
    "\n",
    "plt.scatter(X, y,  color='black')\n",
    "plt.plot(X, y_pred, color='blue', linewidth=3)"
   ]
  },
  {
   "cell_type": "markdown",
   "metadata": {},
   "source": [
    "## Logistic Regression\n",
    "\n",
    "$$\\rho = \\frac{1}{1+e^{-(b_0+b_1x)}}$$"
   ]
  },
  {
   "cell_type": "markdown",
   "metadata": {},
   "source": [
    "# Assignements"
   ]
  },
  {
   "cell_type": "markdown",
   "metadata": {},
   "source": [
    "1. Using the new data to test different models\n",
    "    - KNN, Logistic Regression, SVM, Bayes, Random Forest, XGBoost\n",
    "    - To Classify if a new a by Xinhua."
   ]
  },
  {
   "cell_type": "markdown",
   "metadata": {},
   "source": [
    "2. Summary the advantages and disadvantages about Linear Regression, Logistic Regression, K-Nearest Neighbors, Support Vector Machine, Bayes, etc."
   ]
  },
  {
   "cell_type": "markdown",
   "metadata": {},
   "source": [
    "|models|advantage|disadvantage|\n",
    "|---|---|---|\n",
    "|Linear Regression|||\n",
    "|Logistic Regression|||\n",
    "|K-Nearest Neighbors|算法简单|异常值，耗时，耗空间，高维空间中距离相等|\n",
    "|Support Vector Machine|||\n",
    "|Bayes|||"
   ]
  },
  {
   "cell_type": "code",
   "execution_count": null,
   "metadata": {},
   "outputs": [],
   "source": []
  }
 ],
 "metadata": {
  "kernelspec": {
   "display_name": "Python 3",
   "language": "python",
   "name": "python3"
  },
  "language_info": {
   "codemirror_mode": {
    "name": "ipython",
    "version": 3
   },
   "file_extension": ".py",
   "mimetype": "text/x-python",
   "name": "python",
   "nbconvert_exporter": "python",
   "pygments_lexer": "ipython3",
   "version": "3.7.1"
  }
 },
 "nbformat": 4,
 "nbformat_minor": 2
}
